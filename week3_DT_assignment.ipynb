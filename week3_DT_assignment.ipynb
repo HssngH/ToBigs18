{
  "cells": [
    {
      "cell_type": "markdown",
      "metadata": {
        "id": "view-in-github",
        "colab_type": "text"
      },
      "source": [
        "<a href=\"https://colab.research.google.com/github/HssngH/ToBigs18/blob/main/week3_DT_assignment.ipynb\" target=\"_parent\"><img src=\"https://colab.research.google.com/assets/colab-badge.svg\" alt=\"Open In Colab\"/></a>"
      ]
    },
    {
      "cell_type": "markdown",
      "metadata": {
        "id": "RNTUT2lt0IT-"
      },
      "source": [
        "# DT Assignment"
      ]
    },
    {
      "cell_type": "markdown",
      "metadata": {
        "id": "ms629Srx0IUK"
      },
      "source": [
        "# Data Loading"
      ]
    },
    {
      "cell_type": "code",
      "execution_count": null,
      "metadata": {
        "id": "Mvxyx7Uz0IUM"
      },
      "outputs": [],
      "source": [
        "import pandas as pd \n",
        "import numpy as np"
      ]
    },
    {
      "cell_type": "code",
      "execution_count": null,
      "metadata": {
        "colab": {
          "base_uri": "https://localhost:8080/",
          "height": 488
        },
        "id": "3Y5x76fC0IUO",
        "outputId": "1abcbac4-7244-4589-f97b-328485034ae5"
      },
      "outputs": [
        {
          "output_type": "execute_result",
          "data": {
            "text/plain": [
              "            age  income student credit_rating class_buys_computer\n",
              "0         youth    high      no          fair                  no\n",
              "1         youth    high      no     excellent                  no\n",
              "2   middle_aged    high      no          fair                 yes\n",
              "3        senior  medium      no          fair                 yes\n",
              "4        senior     low     yes          fair                 yes\n",
              "5        senior     low     yes     excellent                  no\n",
              "6   middle_aged     low     yes     excellent                 yes\n",
              "7         youth  medium      no          fair                  no\n",
              "8         youth     low     yes          fair                 yes\n",
              "9        senior  medium     yes          fair                 yes\n",
              "10        youth  medium     yes     excellent                 yes\n",
              "11  middle_aged  medium      no     excellent                 yes\n",
              "12  middle_aged    high     yes          fair                 yes\n",
              "13       senior  medium      no     excellent                  no"
            ],
            "text/html": [
              "\n",
              "  <div id=\"df-7cd5562b-a19b-4596-a100-de0152d1aacc\">\n",
              "    <div class=\"colab-df-container\">\n",
              "      <div>\n",
              "<style scoped>\n",
              "    .dataframe tbody tr th:only-of-type {\n",
              "        vertical-align: middle;\n",
              "    }\n",
              "\n",
              "    .dataframe tbody tr th {\n",
              "        vertical-align: top;\n",
              "    }\n",
              "\n",
              "    .dataframe thead th {\n",
              "        text-align: right;\n",
              "    }\n",
              "</style>\n",
              "<table border=\"1\" class=\"dataframe\">\n",
              "  <thead>\n",
              "    <tr style=\"text-align: right;\">\n",
              "      <th></th>\n",
              "      <th>age</th>\n",
              "      <th>income</th>\n",
              "      <th>student</th>\n",
              "      <th>credit_rating</th>\n",
              "      <th>class_buys_computer</th>\n",
              "    </tr>\n",
              "  </thead>\n",
              "  <tbody>\n",
              "    <tr>\n",
              "      <th>0</th>\n",
              "      <td>youth</td>\n",
              "      <td>high</td>\n",
              "      <td>no</td>\n",
              "      <td>fair</td>\n",
              "      <td>no</td>\n",
              "    </tr>\n",
              "    <tr>\n",
              "      <th>1</th>\n",
              "      <td>youth</td>\n",
              "      <td>high</td>\n",
              "      <td>no</td>\n",
              "      <td>excellent</td>\n",
              "      <td>no</td>\n",
              "    </tr>\n",
              "    <tr>\n",
              "      <th>2</th>\n",
              "      <td>middle_aged</td>\n",
              "      <td>high</td>\n",
              "      <td>no</td>\n",
              "      <td>fair</td>\n",
              "      <td>yes</td>\n",
              "    </tr>\n",
              "    <tr>\n",
              "      <th>3</th>\n",
              "      <td>senior</td>\n",
              "      <td>medium</td>\n",
              "      <td>no</td>\n",
              "      <td>fair</td>\n",
              "      <td>yes</td>\n",
              "    </tr>\n",
              "    <tr>\n",
              "      <th>4</th>\n",
              "      <td>senior</td>\n",
              "      <td>low</td>\n",
              "      <td>yes</td>\n",
              "      <td>fair</td>\n",
              "      <td>yes</td>\n",
              "    </tr>\n",
              "    <tr>\n",
              "      <th>5</th>\n",
              "      <td>senior</td>\n",
              "      <td>low</td>\n",
              "      <td>yes</td>\n",
              "      <td>excellent</td>\n",
              "      <td>no</td>\n",
              "    </tr>\n",
              "    <tr>\n",
              "      <th>6</th>\n",
              "      <td>middle_aged</td>\n",
              "      <td>low</td>\n",
              "      <td>yes</td>\n",
              "      <td>excellent</td>\n",
              "      <td>yes</td>\n",
              "    </tr>\n",
              "    <tr>\n",
              "      <th>7</th>\n",
              "      <td>youth</td>\n",
              "      <td>medium</td>\n",
              "      <td>no</td>\n",
              "      <td>fair</td>\n",
              "      <td>no</td>\n",
              "    </tr>\n",
              "    <tr>\n",
              "      <th>8</th>\n",
              "      <td>youth</td>\n",
              "      <td>low</td>\n",
              "      <td>yes</td>\n",
              "      <td>fair</td>\n",
              "      <td>yes</td>\n",
              "    </tr>\n",
              "    <tr>\n",
              "      <th>9</th>\n",
              "      <td>senior</td>\n",
              "      <td>medium</td>\n",
              "      <td>yes</td>\n",
              "      <td>fair</td>\n",
              "      <td>yes</td>\n",
              "    </tr>\n",
              "    <tr>\n",
              "      <th>10</th>\n",
              "      <td>youth</td>\n",
              "      <td>medium</td>\n",
              "      <td>yes</td>\n",
              "      <td>excellent</td>\n",
              "      <td>yes</td>\n",
              "    </tr>\n",
              "    <tr>\n",
              "      <th>11</th>\n",
              "      <td>middle_aged</td>\n",
              "      <td>medium</td>\n",
              "      <td>no</td>\n",
              "      <td>excellent</td>\n",
              "      <td>yes</td>\n",
              "    </tr>\n",
              "    <tr>\n",
              "      <th>12</th>\n",
              "      <td>middle_aged</td>\n",
              "      <td>high</td>\n",
              "      <td>yes</td>\n",
              "      <td>fair</td>\n",
              "      <td>yes</td>\n",
              "    </tr>\n",
              "    <tr>\n",
              "      <th>13</th>\n",
              "      <td>senior</td>\n",
              "      <td>medium</td>\n",
              "      <td>no</td>\n",
              "      <td>excellent</td>\n",
              "      <td>no</td>\n",
              "    </tr>\n",
              "  </tbody>\n",
              "</table>\n",
              "</div>\n",
              "      <button class=\"colab-df-convert\" onclick=\"convertToInteractive('df-7cd5562b-a19b-4596-a100-de0152d1aacc')\"\n",
              "              title=\"Convert this dataframe to an interactive table.\"\n",
              "              style=\"display:none;\">\n",
              "        \n",
              "  <svg xmlns=\"http://www.w3.org/2000/svg\" height=\"24px\"viewBox=\"0 0 24 24\"\n",
              "       width=\"24px\">\n",
              "    <path d=\"M0 0h24v24H0V0z\" fill=\"none\"/>\n",
              "    <path d=\"M18.56 5.44l.94 2.06.94-2.06 2.06-.94-2.06-.94-.94-2.06-.94 2.06-2.06.94zm-11 1L8.5 8.5l.94-2.06 2.06-.94-2.06-.94L8.5 2.5l-.94 2.06-2.06.94zm10 10l.94 2.06.94-2.06 2.06-.94-2.06-.94-.94-2.06-.94 2.06-2.06.94z\"/><path d=\"M17.41 7.96l-1.37-1.37c-.4-.4-.92-.59-1.43-.59-.52 0-1.04.2-1.43.59L10.3 9.45l-7.72 7.72c-.78.78-.78 2.05 0 2.83L4 21.41c.39.39.9.59 1.41.59.51 0 1.02-.2 1.41-.59l7.78-7.78 2.81-2.81c.8-.78.8-2.07 0-2.86zM5.41 20L4 18.59l7.72-7.72 1.47 1.35L5.41 20z\"/>\n",
              "  </svg>\n",
              "      </button>\n",
              "      \n",
              "  <style>\n",
              "    .colab-df-container {\n",
              "      display:flex;\n",
              "      flex-wrap:wrap;\n",
              "      gap: 12px;\n",
              "    }\n",
              "\n",
              "    .colab-df-convert {\n",
              "      background-color: #E8F0FE;\n",
              "      border: none;\n",
              "      border-radius: 50%;\n",
              "      cursor: pointer;\n",
              "      display: none;\n",
              "      fill: #1967D2;\n",
              "      height: 32px;\n",
              "      padding: 0 0 0 0;\n",
              "      width: 32px;\n",
              "    }\n",
              "\n",
              "    .colab-df-convert:hover {\n",
              "      background-color: #E2EBFA;\n",
              "      box-shadow: 0px 1px 2px rgba(60, 64, 67, 0.3), 0px 1px 3px 1px rgba(60, 64, 67, 0.15);\n",
              "      fill: #174EA6;\n",
              "    }\n",
              "\n",
              "    [theme=dark] .colab-df-convert {\n",
              "      background-color: #3B4455;\n",
              "      fill: #D2E3FC;\n",
              "    }\n",
              "\n",
              "    [theme=dark] .colab-df-convert:hover {\n",
              "      background-color: #434B5C;\n",
              "      box-shadow: 0px 1px 3px 1px rgba(0, 0, 0, 0.15);\n",
              "      filter: drop-shadow(0px 1px 2px rgba(0, 0, 0, 0.3));\n",
              "      fill: #FFFFFF;\n",
              "    }\n",
              "  </style>\n",
              "\n",
              "      <script>\n",
              "        const buttonEl =\n",
              "          document.querySelector('#df-7cd5562b-a19b-4596-a100-de0152d1aacc button.colab-df-convert');\n",
              "        buttonEl.style.display =\n",
              "          google.colab.kernel.accessAllowed ? 'block' : 'none';\n",
              "\n",
              "        async function convertToInteractive(key) {\n",
              "          const element = document.querySelector('#df-7cd5562b-a19b-4596-a100-de0152d1aacc');\n",
              "          const dataTable =\n",
              "            await google.colab.kernel.invokeFunction('convertToInteractive',\n",
              "                                                     [key], {});\n",
              "          if (!dataTable) return;\n",
              "\n",
              "          const docLinkHtml = 'Like what you see? Visit the ' +\n",
              "            '<a target=\"_blank\" href=https://colab.research.google.com/notebooks/data_table.ipynb>data table notebook</a>'\n",
              "            + ' to learn more about interactive tables.';\n",
              "          element.innerHTML = '';\n",
              "          dataTable['output_type'] = 'display_data';\n",
              "          await google.colab.output.renderOutput(dataTable, element);\n",
              "          const docLink = document.createElement('div');\n",
              "          docLink.innerHTML = docLinkHtml;\n",
              "          element.appendChild(docLink);\n",
              "        }\n",
              "      </script>\n",
              "    </div>\n",
              "  </div>\n",
              "  "
            ]
          },
          "metadata": {},
          "execution_count": 3
        }
      ],
      "source": [
        "pd_data = pd.read_csv('https://raw.githubusercontent.com/AugustLONG/ML01/master/01decisiontree/AllElectronics.csv')\n",
        "pd_data.drop(\"RID\",axis=1, inplace = True) #RID는 그냥 순서라서 삭제\n",
        "pd_data"
      ]
    },
    {
      "cell_type": "markdown",
      "metadata": {
        "id": "oU5NxvYG0IUR"
      },
      "source": [
        "## Gini 계수를 구하는 함수 만들기"
      ]
    },
    {
      "cell_type": "markdown",
      "metadata": {
        "id": "VmP_AULe0IUS"
      },
      "source": [
        "<img src=\"gini.png\" width=\"200\">\n",
        "\n",
        "- Input: df(데이터), label(타겟변수명)\n",
        "- 해당 결과는 아래와 같이 나와야 합니다.\n",
        "\n",
        "- 지니계수는 데이터의 통계적 분산 정도를 정량화 해서 표현한 값이다.\n",
        "- 어떤 집합의 gini index가 높을수록 그 집단의 데이터가 분산되어 있음을 확인할 수 있다."
      ]
    },
    {
      "cell_type": "code",
      "execution_count": null,
      "metadata": {
        "id": "1UPjrAv00IUT"
      },
      "outputs": [],
      "source": [
        "def get_gini(df, label):\n",
        "    gini = 1\n",
        "    percentage = df[label].value_counts() / len(df)\n",
        "    for p in percentage:\n",
        "        gini -= p**2\n",
        "        \n",
        "    return gini"
      ]
    },
    {
      "cell_type": "code",
      "execution_count": null,
      "metadata": {
        "colab": {
          "base_uri": "https://localhost:8080/"
        },
        "id": "7q95Pfn90IUU",
        "outputId": "76115fa8-926c-4100-e617-deeea41b472c"
      },
      "outputs": [
        {
          "output_type": "execute_result",
          "data": {
            "text/plain": [
              "0.4591836734693877"
            ]
          },
          "metadata": {},
          "execution_count": 6
        }
      ],
      "source": [
        "get_gini(pd_data,'class_buys_computer')"
      ]
    },
    {
      "cell_type": "markdown",
      "metadata": {
        "id": "5gEFqUvk0IUV"
      },
      "source": [
        "## Feature의 Class를 이진 분류로 만들기\n",
        "- ex) {A,B,C} -> ({A}, {B,C}), ({B}, {A,C}), ({C}, {A,B})"
      ]
    },
    {
      "cell_type": "markdown",
      "metadata": {
        "id": "edO7BUka0IUX"
      },
      "source": [
        "- Input: df(데이터), attribute(Gini index를 구하고자 하는 변수명)\n",
        "- Income 변수를 결과로 출력해주세요."
      ]
    },
    {
      "cell_type": "code",
      "execution_count": null,
      "metadata": {
        "id": "gpcxukW60IUX"
      },
      "outputs": [],
      "source": [
        "from itertools import combinations\n",
        "\n",
        "def get_binary_split(df, attribute):\n",
        "    \n",
        "    uniques = list(df[attribute].unique()) # 속성 데이터 고유값들을 담은 리스트 \n",
        "    result=[]\n",
        "    len_uniques = len(uniques)\n",
        "    for i in range(len_uniques - 1):\n",
        "        for j in list(combinations(uniques, i+1)):\n",
        "            result.append(list(j))\n",
        "    \n",
        "    return result"
      ]
    },
    {
      "cell_type": "code",
      "execution_count": null,
      "metadata": {
        "colab": {
          "base_uri": "https://localhost:8080/"
        },
        "id": "peh09zgS0IUY",
        "outputId": "63d1f4a8-9dc2-454b-ddc5-bba1a5003714"
      },
      "outputs": [
        {
          "output_type": "execute_result",
          "data": {
            "text/plain": [
              "[['high'],\n",
              " ['medium'],\n",
              " ['low'],\n",
              " ['high', 'medium'],\n",
              " ['high', 'low'],\n",
              " ['medium', 'low']]"
            ]
          },
          "metadata": {},
          "execution_count": 8
        }
      ],
      "source": [
        "get_binary_split(pd_data,'income')"
      ]
    },
    {
      "cell_type": "markdown",
      "metadata": {
        "id": "8vNSTYxT0IUZ"
      },
      "source": [
        "## 모든 이진분류의 경우의 Gini index를 구하는 함수 만들기\n",
        "- 위에서 완성한 두 함수를 사용하여 만들어주세요!\n",
        "- 해당 결과는 아래와 같이 나와야 합니다."
      ]
    },
    {
      "cell_type": "code",
      "execution_count": null,
      "metadata": {
        "id": "mgRUkjpa0IUZ"
      },
      "outputs": [],
      "source": [
        "def get_attribute_gini_index(df, attribute, label):\n",
        "    \n",
        "    result = {}\n",
        "    binary_split = get_binary_split(df, attribute)\n",
        "    n = len(df)\n",
        "    for i in binary_split:\n",
        "        key = '_'.join(i)\n",
        "        df_1 = df[df[attribute].isin(i)] # binary split 중 i를 포함한 경우\n",
        "        df_2 = df[~df[attribute].isin(i)] # binary split 중 i를 포함하지 않은 경우\n",
        "        gini_index = len(df_1) / n * get_gini(df_1, label) + len(df_2) / n * get_gini(df_2, label)\n",
        "        result[key] = gini_index\n",
        "    \n",
        "    return result"
      ]
    },
    {
      "cell_type": "code",
      "execution_count": null,
      "metadata": {
        "colab": {
          "base_uri": "https://localhost:8080/"
        },
        "id": "dkiuRoGM0IUa",
        "outputId": "71286dc1-0ab9-4e68-d752-327bb0f9cb6f"
      },
      "outputs": [
        {
          "output_type": "execute_result",
          "data": {
            "text/plain": [
              "{'high': 0.4428571428571429,\n",
              " 'high_low': 0.4583333333333333,\n",
              " 'high_medium': 0.45,\n",
              " 'low': 0.45,\n",
              " 'medium': 0.4583333333333333,\n",
              " 'medium_low': 0.4428571428571429}"
            ]
          },
          "metadata": {},
          "execution_count": 10
        }
      ],
      "source": [
        "get_attribute_gini_index(pd_data, 'income', 'class_buys_computer')"
      ]
    },
    {
      "cell_type": "markdown",
      "metadata": {
        "id": "YVxvgc9K0IUb"
      },
      "source": [
        "- 여기서 가장 작은 Gini index값을 가지는 class를 확인합니다."
      ]
    },
    {
      "cell_type": "code",
      "execution_count": null,
      "metadata": {
        "colab": {
          "base_uri": "https://localhost:8080/"
        },
        "id": "ivX_FeMb0IUb",
        "outputId": "3cb5aef3-2aec-4cff-ef27-ea02f4fd8b7c"
      },
      "outputs": [
        {
          "output_type": "execute_result",
          "data": {
            "text/plain": [
              "('high', 0.4428571428571429)"
            ]
          },
          "metadata": {},
          "execution_count": 11
        }
      ],
      "source": [
        "min(get_attribute_gini_index(pd_data, 'income', 'class_buys_computer').items())"
      ]
    },
    {
      "cell_type": "code",
      "execution_count": null,
      "metadata": {
        "colab": {
          "base_uri": "https://localhost:8080/",
          "height": 35
        },
        "id": "HFjnOdad0IUc",
        "outputId": "47b99361-f2d1-4ad2-b0ee-f25f956bdc9c"
      },
      "outputs": [
        {
          "output_type": "execute_result",
          "data": {
            "text/plain": [
              "'high'"
            ],
            "application/vnd.google.colaboratory.intrinsic+json": {
              "type": "string"
            }
          },
          "metadata": {},
          "execution_count": 12
        }
      ],
      "source": [
        "min(get_attribute_gini_index(pd_data, 'income', 'class_buys_computer').items())[0]"
      ]
    },
    {
      "cell_type": "markdown",
      "metadata": {
        "id": "n25Swxn00IUc"
      },
      "source": [
        "## 분류를 하는 데 가장 중요한 변수를 선정하고, 해당 변수의 Gini index를 제시해주세요.\n",
        "- 모든 변수에 대한 Gini index(최소)를 출력해주세요.\n",
        "- 해당 결과는 아래와 같이 나와야 합니다."
      ]
    },
    {
      "cell_type": "code",
      "execution_count": null,
      "metadata": {
        "colab": {
          "base_uri": "https://localhost:8080/"
        },
        "id": "W0uLDu3U0IUd",
        "outputId": "550e7bed-312b-49f7-8ad4-0f9ae9ed98f6"
      },
      "outputs": [
        {
          "output_type": "stream",
          "name": "stdout",
          "text": [
            "Minimum Gini index of age : 0.3571\n",
            "Minimum Gini index of income : 0.4429\n",
            "Minimum Gini index of student : 0.3673\n",
            "Minimum Gini index of credit_rating : 0.4286\n"
          ]
        }
      ],
      "source": [
        "# 변수명 중 마지막에 위치한 label 컬럼 얻기\n",
        "label = pd_data.columns[-1]\n",
        "# label 변수를 제외한 변수명 얻기\n",
        "features = list(pd_data.columns[:-1])\n",
        "\n",
        "# 각 변수를 대상으로 반복문 수행(해당 변수 중 가장 낮은 gini 계수와 변수 출력)\n",
        "for feature in features:\n",
        "\n",
        "    min_val = min(get_attribute_gini_index(pd_data, feature, 'class_buys_computer').items())\n",
        "    print(\"Minimum Gini index of \" + feature +\" : \" + str(round(min_val[1], 4)))"
      ]
    },
    {
      "cell_type": "markdown",
      "metadata": {
        "id": "EBw7VB_N0IUe"
      },
      "source": [
        "gini index가 가장 작게 나온 'age'를 가장 중요한 변수로 선정합니다.\n",
        "\n",
        "이어서 해당 변수의 이진 분류된 각 class에 대해 Gini index도 계산합니다."
      ]
    },
    {
      "cell_type": "code",
      "execution_count": null,
      "metadata": {
        "colab": {
          "base_uri": "https://localhost:8080/"
        },
        "id": "x-0RcnKB0IUe",
        "outputId": "d7b7e1a4-00b1-4d05-85a7-71ddb1b1859c"
      },
      "outputs": [
        {
          "output_type": "execute_result",
          "data": {
            "text/plain": [
              "{'middle_aged': 0.35714285714285715,\n",
              " 'middle_aged_senior': 0.3936507936507937,\n",
              " 'senior': 0.4571428571428572,\n",
              " 'youth': 0.3936507936507937,\n",
              " 'youth_middle_aged': 0.4571428571428572,\n",
              " 'youth_senior': 0.35714285714285715}"
            ]
          },
          "metadata": {},
          "execution_count": 14
        }
      ],
      "source": [
        "get_attribute_gini_index(pd_data, 'age', 'class_buys_computer')"
      ]
    },
    {
      "cell_type": "markdown",
      "metadata": {
        "id": "5PQtEhwU0IUf"
      },
      "source": [
        "'age' 변수에서 gini index가 가장 작게 나온 'middle_aged' class를 선정합니다."
      ]
    },
    {
      "cell_type": "markdown",
      "metadata": {
        "id": "AveNrOAG0IUh"
      },
      "source": [
        "## 위에서 선정한 feature로 DataFrame을 split한 후 나눠진 2개의 DataFrame에서 각각 다음으로 중요한 변수를 선정하고 해당 변수의 Gini index를 제시해주세요."
      ]
    },
    {
      "cell_type": "code",
      "execution_count": null,
      "metadata": {
        "id": "mREI3YH10IUi"
      },
      "outputs": [],
      "source": [
        "#선정한 feature로 데이터프레임 split을 해주세요.\n",
        "\n",
        "df_1 = pd_data[pd_data['age'] == 'middle_aged']\n",
        "df_2 = pd_data[pd_data['age'] != 'middle_aged']"
      ]
    },
    {
      "cell_type": "code",
      "execution_count": null,
      "metadata": {
        "colab": {
          "base_uri": "https://localhost:8080/",
          "height": 175
        },
        "id": "f7FoQ4xF0IUi",
        "outputId": "029b7f39-43d7-4642-d79b-a4f573ca0ef2"
      },
      "outputs": [
        {
          "output_type": "execute_result",
          "data": {
            "text/plain": [
              "            age  income student credit_rating class_buys_computer\n",
              "2   middle_aged    high      no          fair                 yes\n",
              "6   middle_aged     low     yes     excellent                 yes\n",
              "11  middle_aged  medium      no     excellent                 yes\n",
              "12  middle_aged    high     yes          fair                 yes"
            ],
            "text/html": [
              "\n",
              "  <div id=\"df-cab1ac9c-b48b-4ca7-8301-efd05343dd08\">\n",
              "    <div class=\"colab-df-container\">\n",
              "      <div>\n",
              "<style scoped>\n",
              "    .dataframe tbody tr th:only-of-type {\n",
              "        vertical-align: middle;\n",
              "    }\n",
              "\n",
              "    .dataframe tbody tr th {\n",
              "        vertical-align: top;\n",
              "    }\n",
              "\n",
              "    .dataframe thead th {\n",
              "        text-align: right;\n",
              "    }\n",
              "</style>\n",
              "<table border=\"1\" class=\"dataframe\">\n",
              "  <thead>\n",
              "    <tr style=\"text-align: right;\">\n",
              "      <th></th>\n",
              "      <th>age</th>\n",
              "      <th>income</th>\n",
              "      <th>student</th>\n",
              "      <th>credit_rating</th>\n",
              "      <th>class_buys_computer</th>\n",
              "    </tr>\n",
              "  </thead>\n",
              "  <tbody>\n",
              "    <tr>\n",
              "      <th>2</th>\n",
              "      <td>middle_aged</td>\n",
              "      <td>high</td>\n",
              "      <td>no</td>\n",
              "      <td>fair</td>\n",
              "      <td>yes</td>\n",
              "    </tr>\n",
              "    <tr>\n",
              "      <th>6</th>\n",
              "      <td>middle_aged</td>\n",
              "      <td>low</td>\n",
              "      <td>yes</td>\n",
              "      <td>excellent</td>\n",
              "      <td>yes</td>\n",
              "    </tr>\n",
              "    <tr>\n",
              "      <th>11</th>\n",
              "      <td>middle_aged</td>\n",
              "      <td>medium</td>\n",
              "      <td>no</td>\n",
              "      <td>excellent</td>\n",
              "      <td>yes</td>\n",
              "    </tr>\n",
              "    <tr>\n",
              "      <th>12</th>\n",
              "      <td>middle_aged</td>\n",
              "      <td>high</td>\n",
              "      <td>yes</td>\n",
              "      <td>fair</td>\n",
              "      <td>yes</td>\n",
              "    </tr>\n",
              "  </tbody>\n",
              "</table>\n",
              "</div>\n",
              "      <button class=\"colab-df-convert\" onclick=\"convertToInteractive('df-cab1ac9c-b48b-4ca7-8301-efd05343dd08')\"\n",
              "              title=\"Convert this dataframe to an interactive table.\"\n",
              "              style=\"display:none;\">\n",
              "        \n",
              "  <svg xmlns=\"http://www.w3.org/2000/svg\" height=\"24px\"viewBox=\"0 0 24 24\"\n",
              "       width=\"24px\">\n",
              "    <path d=\"M0 0h24v24H0V0z\" fill=\"none\"/>\n",
              "    <path d=\"M18.56 5.44l.94 2.06.94-2.06 2.06-.94-2.06-.94-.94-2.06-.94 2.06-2.06.94zm-11 1L8.5 8.5l.94-2.06 2.06-.94-2.06-.94L8.5 2.5l-.94 2.06-2.06.94zm10 10l.94 2.06.94-2.06 2.06-.94-2.06-.94-.94-2.06-.94 2.06-2.06.94z\"/><path d=\"M17.41 7.96l-1.37-1.37c-.4-.4-.92-.59-1.43-.59-.52 0-1.04.2-1.43.59L10.3 9.45l-7.72 7.72c-.78.78-.78 2.05 0 2.83L4 21.41c.39.39.9.59 1.41.59.51 0 1.02-.2 1.41-.59l7.78-7.78 2.81-2.81c.8-.78.8-2.07 0-2.86zM5.41 20L4 18.59l7.72-7.72 1.47 1.35L5.41 20z\"/>\n",
              "  </svg>\n",
              "      </button>\n",
              "      \n",
              "  <style>\n",
              "    .colab-df-container {\n",
              "      display:flex;\n",
              "      flex-wrap:wrap;\n",
              "      gap: 12px;\n",
              "    }\n",
              "\n",
              "    .colab-df-convert {\n",
              "      background-color: #E8F0FE;\n",
              "      border: none;\n",
              "      border-radius: 50%;\n",
              "      cursor: pointer;\n",
              "      display: none;\n",
              "      fill: #1967D2;\n",
              "      height: 32px;\n",
              "      padding: 0 0 0 0;\n",
              "      width: 32px;\n",
              "    }\n",
              "\n",
              "    .colab-df-convert:hover {\n",
              "      background-color: #E2EBFA;\n",
              "      box-shadow: 0px 1px 2px rgba(60, 64, 67, 0.3), 0px 1px 3px 1px rgba(60, 64, 67, 0.15);\n",
              "      fill: #174EA6;\n",
              "    }\n",
              "\n",
              "    [theme=dark] .colab-df-convert {\n",
              "      background-color: #3B4455;\n",
              "      fill: #D2E3FC;\n",
              "    }\n",
              "\n",
              "    [theme=dark] .colab-df-convert:hover {\n",
              "      background-color: #434B5C;\n",
              "      box-shadow: 0px 1px 3px 1px rgba(0, 0, 0, 0.15);\n",
              "      filter: drop-shadow(0px 1px 2px rgba(0, 0, 0, 0.3));\n",
              "      fill: #FFFFFF;\n",
              "    }\n",
              "  </style>\n",
              "\n",
              "      <script>\n",
              "        const buttonEl =\n",
              "          document.querySelector('#df-cab1ac9c-b48b-4ca7-8301-efd05343dd08 button.colab-df-convert');\n",
              "        buttonEl.style.display =\n",
              "          google.colab.kernel.accessAllowed ? 'block' : 'none';\n",
              "\n",
              "        async function convertToInteractive(key) {\n",
              "          const element = document.querySelector('#df-cab1ac9c-b48b-4ca7-8301-efd05343dd08');\n",
              "          const dataTable =\n",
              "            await google.colab.kernel.invokeFunction('convertToInteractive',\n",
              "                                                     [key], {});\n",
              "          if (!dataTable) return;\n",
              "\n",
              "          const docLinkHtml = 'Like what you see? Visit the ' +\n",
              "            '<a target=\"_blank\" href=https://colab.research.google.com/notebooks/data_table.ipynb>data table notebook</a>'\n",
              "            + ' to learn more about interactive tables.';\n",
              "          element.innerHTML = '';\n",
              "          dataTable['output_type'] = 'display_data';\n",
              "          await google.colab.output.renderOutput(dataTable, element);\n",
              "          const docLink = document.createElement('div');\n",
              "          docLink.innerHTML = docLinkHtml;\n",
              "          element.appendChild(docLink);\n",
              "        }\n",
              "      </script>\n",
              "    </div>\n",
              "  </div>\n",
              "  "
            ]
          },
          "metadata": {},
          "execution_count": 16
        }
      ],
      "source": [
        "df_1.head() #split 결과 확인 "
      ]
    },
    {
      "cell_type": "code",
      "execution_count": null,
      "metadata": {
        "colab": {
          "base_uri": "https://localhost:8080/",
          "height": 206
        },
        "id": "kRZrXiVl0IUj",
        "outputId": "ae902eaf-7040-4127-893e-f6743b45084e"
      },
      "outputs": [
        {
          "output_type": "execute_result",
          "data": {
            "text/plain": [
              "      age  income student credit_rating class_buys_computer\n",
              "0   youth    high      no          fair                  no\n",
              "1   youth    high      no     excellent                  no\n",
              "3  senior  medium      no          fair                 yes\n",
              "4  senior     low     yes          fair                 yes\n",
              "5  senior     low     yes     excellent                  no"
            ],
            "text/html": [
              "\n",
              "  <div id=\"df-14df49c3-3ca7-4df0-ad47-a1987e6b7916\">\n",
              "    <div class=\"colab-df-container\">\n",
              "      <div>\n",
              "<style scoped>\n",
              "    .dataframe tbody tr th:only-of-type {\n",
              "        vertical-align: middle;\n",
              "    }\n",
              "\n",
              "    .dataframe tbody tr th {\n",
              "        vertical-align: top;\n",
              "    }\n",
              "\n",
              "    .dataframe thead th {\n",
              "        text-align: right;\n",
              "    }\n",
              "</style>\n",
              "<table border=\"1\" class=\"dataframe\">\n",
              "  <thead>\n",
              "    <tr style=\"text-align: right;\">\n",
              "      <th></th>\n",
              "      <th>age</th>\n",
              "      <th>income</th>\n",
              "      <th>student</th>\n",
              "      <th>credit_rating</th>\n",
              "      <th>class_buys_computer</th>\n",
              "    </tr>\n",
              "  </thead>\n",
              "  <tbody>\n",
              "    <tr>\n",
              "      <th>0</th>\n",
              "      <td>youth</td>\n",
              "      <td>high</td>\n",
              "      <td>no</td>\n",
              "      <td>fair</td>\n",
              "      <td>no</td>\n",
              "    </tr>\n",
              "    <tr>\n",
              "      <th>1</th>\n",
              "      <td>youth</td>\n",
              "      <td>high</td>\n",
              "      <td>no</td>\n",
              "      <td>excellent</td>\n",
              "      <td>no</td>\n",
              "    </tr>\n",
              "    <tr>\n",
              "      <th>3</th>\n",
              "      <td>senior</td>\n",
              "      <td>medium</td>\n",
              "      <td>no</td>\n",
              "      <td>fair</td>\n",
              "      <td>yes</td>\n",
              "    </tr>\n",
              "    <tr>\n",
              "      <th>4</th>\n",
              "      <td>senior</td>\n",
              "      <td>low</td>\n",
              "      <td>yes</td>\n",
              "      <td>fair</td>\n",
              "      <td>yes</td>\n",
              "    </tr>\n",
              "    <tr>\n",
              "      <th>5</th>\n",
              "      <td>senior</td>\n",
              "      <td>low</td>\n",
              "      <td>yes</td>\n",
              "      <td>excellent</td>\n",
              "      <td>no</td>\n",
              "    </tr>\n",
              "  </tbody>\n",
              "</table>\n",
              "</div>\n",
              "      <button class=\"colab-df-convert\" onclick=\"convertToInteractive('df-14df49c3-3ca7-4df0-ad47-a1987e6b7916')\"\n",
              "              title=\"Convert this dataframe to an interactive table.\"\n",
              "              style=\"display:none;\">\n",
              "        \n",
              "  <svg xmlns=\"http://www.w3.org/2000/svg\" height=\"24px\"viewBox=\"0 0 24 24\"\n",
              "       width=\"24px\">\n",
              "    <path d=\"M0 0h24v24H0V0z\" fill=\"none\"/>\n",
              "    <path d=\"M18.56 5.44l.94 2.06.94-2.06 2.06-.94-2.06-.94-.94-2.06-.94 2.06-2.06.94zm-11 1L8.5 8.5l.94-2.06 2.06-.94-2.06-.94L8.5 2.5l-.94 2.06-2.06.94zm10 10l.94 2.06.94-2.06 2.06-.94-2.06-.94-.94-2.06-.94 2.06-2.06.94z\"/><path d=\"M17.41 7.96l-1.37-1.37c-.4-.4-.92-.59-1.43-.59-.52 0-1.04.2-1.43.59L10.3 9.45l-7.72 7.72c-.78.78-.78 2.05 0 2.83L4 21.41c.39.39.9.59 1.41.59.51 0 1.02-.2 1.41-.59l7.78-7.78 2.81-2.81c.8-.78.8-2.07 0-2.86zM5.41 20L4 18.59l7.72-7.72 1.47 1.35L5.41 20z\"/>\n",
              "  </svg>\n",
              "      </button>\n",
              "      \n",
              "  <style>\n",
              "    .colab-df-container {\n",
              "      display:flex;\n",
              "      flex-wrap:wrap;\n",
              "      gap: 12px;\n",
              "    }\n",
              "\n",
              "    .colab-df-convert {\n",
              "      background-color: #E8F0FE;\n",
              "      border: none;\n",
              "      border-radius: 50%;\n",
              "      cursor: pointer;\n",
              "      display: none;\n",
              "      fill: #1967D2;\n",
              "      height: 32px;\n",
              "      padding: 0 0 0 0;\n",
              "      width: 32px;\n",
              "    }\n",
              "\n",
              "    .colab-df-convert:hover {\n",
              "      background-color: #E2EBFA;\n",
              "      box-shadow: 0px 1px 2px rgba(60, 64, 67, 0.3), 0px 1px 3px 1px rgba(60, 64, 67, 0.15);\n",
              "      fill: #174EA6;\n",
              "    }\n",
              "\n",
              "    [theme=dark] .colab-df-convert {\n",
              "      background-color: #3B4455;\n",
              "      fill: #D2E3FC;\n",
              "    }\n",
              "\n",
              "    [theme=dark] .colab-df-convert:hover {\n",
              "      background-color: #434B5C;\n",
              "      box-shadow: 0px 1px 3px 1px rgba(0, 0, 0, 0.15);\n",
              "      filter: drop-shadow(0px 1px 2px rgba(0, 0, 0, 0.3));\n",
              "      fill: #FFFFFF;\n",
              "    }\n",
              "  </style>\n",
              "\n",
              "      <script>\n",
              "        const buttonEl =\n",
              "          document.querySelector('#df-14df49c3-3ca7-4df0-ad47-a1987e6b7916 button.colab-df-convert');\n",
              "        buttonEl.style.display =\n",
              "          google.colab.kernel.accessAllowed ? 'block' : 'none';\n",
              "\n",
              "        async function convertToInteractive(key) {\n",
              "          const element = document.querySelector('#df-14df49c3-3ca7-4df0-ad47-a1987e6b7916');\n",
              "          const dataTable =\n",
              "            await google.colab.kernel.invokeFunction('convertToInteractive',\n",
              "                                                     [key], {});\n",
              "          if (!dataTable) return;\n",
              "\n",
              "          const docLinkHtml = 'Like what you see? Visit the ' +\n",
              "            '<a target=\"_blank\" href=https://colab.research.google.com/notebooks/data_table.ipynb>data table notebook</a>'\n",
              "            + ' to learn more about interactive tables.';\n",
              "          element.innerHTML = '';\n",
              "          dataTable['output_type'] = 'display_data';\n",
              "          await google.colab.output.renderOutput(dataTable, element);\n",
              "          const docLink = document.createElement('div');\n",
              "          docLink.innerHTML = docLinkHtml;\n",
              "          element.appendChild(docLink);\n",
              "        }\n",
              "      </script>\n",
              "    </div>\n",
              "  </div>\n",
              "  "
            ]
          },
          "metadata": {},
          "execution_count": 17
        }
      ],
      "source": [
        "df_2.head() #split 결과 확인 "
      ]
    },
    {
      "cell_type": "code",
      "execution_count": null,
      "metadata": {
        "colab": {
          "base_uri": "https://localhost:8080/"
        },
        "id": "zhkWJqVY0IUj",
        "outputId": "7f86a7fd-e6c1-46a2-a37a-3bc396a2ce72"
      },
      "outputs": [
        {
          "output_type": "stream",
          "name": "stdout",
          "text": [
            "['age', 'income', 'student', 'credit_rating', 'class_buys_computer']\n"
          ]
        }
      ],
      "source": [
        "features = [x for x in list(pd_data.columns)  if x != 'age']  # 탐색할 피쳐들 (income 제외)\n",
        "# res = pd.DataFrame(columns=['feature', 'attribute', 'gini'])\n",
        "# res.loc['middle_aged'] = propose_feature(pos, left_features)\n",
        "# res.loc['not middle_aged'] = propose_feature(neg, left_features)\n",
        "# res\n",
        "print(list(pd_data.columns))"
      ]
    },
    {
      "cell_type": "code",
      "execution_count": null,
      "metadata": {
        "colab": {
          "base_uri": "https://localhost:8080/"
        },
        "id": "xB360dpf0IUk",
        "outputId": "ed49c84c-d5a6-4080-e372-4559557123a9"
      },
      "outputs": [
        {
          "output_type": "stream",
          "name": "stdout",
          "text": [
            "Age : middle_aged, Minimum Gini index of income : 0.0\n",
            "Age : middle_aged, Minimum Gini index of student : 0.0\n",
            "Age : middle_aged, Minimum Gini index of credit_rating : 0.0\n",
            "Age : youth_senior, Minimum Gini index of income : 0.375\n",
            "Age : youth_senior, Minimum Gini index of student : 0.32\n",
            "Age : youth_senior, Minimum Gini index of credit_rating : 0.4167\n"
          ]
        }
      ],
      "source": [
        "# 각 변수를 대상으로 반복문 수행\n",
        "# 결과는 소수점 이하 4자리까지 출력\n",
        "\n",
        "for df in [df_1, df_2]:\n",
        "    min_feature = '_'.join(df['age'].unique())\n",
        "    features_ = features[:-1]\n",
        "    for feature in features_:\n",
        "        min_class = min(get_attribute_gini_index(df, feature, 'class_buys_computer').items())\n",
        "        print(\"Age : %s, Minimum Gini index of %s : %s\" %(min_feature, feature, round(min_class[1],4)))"
      ]
    },
    {
      "cell_type": "markdown",
      "metadata": {
        "id": "aocZt9dT0IUk"
      },
      "source": [
        "## Entropy 를 구하는 함수 만들기\n",
        "\n",
        "<img src = https://miro.medium.com/max/1122/0*DkWdyGidNSfdT1Nu.png width = \"350\">"
      ]
    },
    {
      "cell_type": "code",
      "source": [
        "def get_gini(df, label):\n",
        "    gini = 1\n",
        "    percentage = df[label].value_counts() / len(df)\n",
        "    for p in percentage:\n",
        "        gini -= p**2\n",
        "        \n",
        "    return gini"
      ],
      "metadata": {
        "id": "TiAKgRhvJkgC"
      },
      "execution_count": null,
      "outputs": []
    },
    {
      "cell_type": "code",
      "execution_count": null,
      "metadata": {
        "id": "Wp94NFQp0IUl"
      },
      "outputs": [],
      "source": [
        "from math import log2\n",
        "\n",
        "def getEntropy(df, feature) :\n",
        "    \n",
        "    entropy = 0\n",
        "    percentage = df[feature].value_counts() / len(df)\n",
        "    for p in percentage:\n",
        "        entropy -= p*log2(p)\n",
        "    return entropy\n"
      ]
    },
    {
      "cell_type": "code",
      "execution_count": null,
      "metadata": {
        "colab": {
          "base_uri": "https://localhost:8080/"
        },
        "id": "SM48hNDx0IUl",
        "outputId": "65ea4e0d-81fd-425d-9336-c567ca649d8b"
      },
      "outputs": [
        {
          "output_type": "execute_result",
          "data": {
            "text/plain": [
              "0.9402859586706309"
            ]
          },
          "metadata": {},
          "execution_count": 52
        }
      ],
      "source": [
        "getEntropy(pd_data, \"class_buys_computer\")"
      ]
    },
    {
      "cell_type": "code",
      "execution_count": null,
      "metadata": {
        "id": "-VSVoZIN0IUl"
      },
      "outputs": [],
      "source": [
        "# 가장 중요한 변수로 선정된 목표변수를 제외한 다른 변수들에 대해\n",
        "# 각 칼럼별로 엔트로피를 구해주는 함수를 작성해주세요.\n",
        "\n",
        "def getGainA(df, feature) :\n",
        "        \n",
        "    result = {}\n",
        "\n",
        "    info_D = getEntropy(df, feature) # 목표변수에 대한 Entropy 를 구하기\n",
        "    columns = list(df.loc[:, df.columns != feature]) # 목표변수(feature)를 제외한 나머지 변수들의 변수명을 리스트 형태로 저장\n",
        "    for i in columns: \n",
        "        result[i] = getEntropy(df, i)\n",
        "    \n",
        "    return(result)"
      ]
    },
    {
      "cell_type": "code",
      "execution_count": null,
      "metadata": {
        "scrolled": true,
        "colab": {
          "base_uri": "https://localhost:8080/"
        },
        "id": "TOjaBILU0IUm",
        "outputId": "7b1fe6fb-c1fd-4e34-e5e1-27b227f686be"
      },
      "outputs": [
        {
          "output_type": "execute_result",
          "data": {
            "text/plain": [
              "{'age': 1.5774062828523454,\n",
              " 'credit_rating': 0.9852281360342515,\n",
              " 'income': 1.5566567074628228,\n",
              " 'student': 1.0}"
            ]
          },
          "metadata": {},
          "execution_count": 54
        }
      ],
      "source": [
        "getGainA(pd_data, \"class_buys_computer\")"
      ]
    }
  ],
  "metadata": {
    "kernelspec": {
      "display_name": "Python 3",
      "language": "python",
      "name": "python3"
    },
    "language_info": {
      "codemirror_mode": {
        "name": "ipython",
        "version": 3
      },
      "file_extension": ".py",
      "mimetype": "text/x-python",
      "name": "python",
      "nbconvert_exporter": "python",
      "pygments_lexer": "ipython3",
      "version": "3.7.10"
    },
    "toc": {
      "base_numbering": 1,
      "nav_menu": {},
      "number_sections": true,
      "sideBar": true,
      "skip_h1_title": false,
      "title_cell": "Table of Contents",
      "title_sidebar": "Contents",
      "toc_cell": false,
      "toc_position": {},
      "toc_section_display": true,
      "toc_window_display": false
    },
    "colab": {
      "name": "week3_DT_assignment.ipynb",
      "provenance": [],
      "collapsed_sections": [],
      "include_colab_link": true
    }
  },
  "nbformat": 4,
  "nbformat_minor": 0
}