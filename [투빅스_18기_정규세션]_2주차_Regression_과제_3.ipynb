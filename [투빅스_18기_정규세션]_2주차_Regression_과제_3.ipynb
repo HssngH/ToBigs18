{
  "cells": [
    {
      "cell_type": "markdown",
      "metadata": {
        "id": "view-in-github",
        "colab_type": "text"
      },
      "source": [
        "<a href=\"https://colab.research.google.com/github/HssngH/ToBigs18/blob/main/%5B%ED%88%AC%EB%B9%85%EC%8A%A4_18%EA%B8%B0_%EC%A0%95%EA%B7%9C%EC%84%B8%EC%85%98%5D_2%EC%A3%BC%EC%B0%A8_Regression_%EA%B3%BC%EC%A0%9C_3.ipynb\" target=\"_parent\"><img src=\"https://colab.research.google.com/assets/colab-badge.svg\" alt=\"Open In Colab\"/></a>"
      ]
    },
    {
      "cell_type": "markdown",
      "metadata": {
        "id": "fu39oBW0RVn5"
      },
      "source": [
        "# [과제 3] 로지스틱 회귀분석\n",
        "### - sklearn 패키지를 사용해 로지스틱 회귀분석을 진행해주세요.\n",
        "### - 성능지표를 계산하고 이에 대해 해석해주세요.\n",
        "### - 성능 개선을 시도해주세요. (어떠한 성능지표를 기준으로 개선을 시도했는지, 그 이유도 함께 적어주세요.)\n",
        "### - 주석으로 설명 및 근거 자세하게 달아주시면 감사하겠습니다. :)"
      ]
    },
    {
      "cell_type": "markdown",
      "metadata": {
        "id": "8rN2SWezRVn_"
      },
      "source": [
        "## Data "
      ]
    },
    {
      "cell_type": "markdown",
      "metadata": {
        "id": "Y7SYKNvQRVn_"
      },
      "source": [
        "출처 : https://www.kaggle.com/mlg-ulb/creditcardfraud\n",
        "\n",
        "\n",
        "* V1 ~ V28 : 비식별화 된 개인정보 \n",
        "* **Class** : Target 변수  \n",
        "  - 1 : fraudulent transactions (사기)\n",
        "  - 0 : otherwise "
      ]
    },
    {
      "cell_type": "code",
      "execution_count": 1,
      "metadata": {
        "id": "Uvjw2fTCRVoA"
      },
      "outputs": [],
      "source": [
        "import pandas as pd\n",
        "import numpy as np\n",
        "import seaborn as sns\n",
        "import matplotlib.pyplot as plt\n",
        "import warnings\n",
        "warnings.filterwarnings(action='ignore')"
      ]
    },
    {
      "cell_type": "code",
      "source": [
        "from google.colab import drive\n",
        "drive.mount('/content/drive')"
      ],
      "metadata": {
        "colab": {
          "base_uri": "https://localhost:8080/"
        },
        "id": "E3agnR04G7qp",
        "outputId": "212e0bc8-b3fe-4fad-e1b6-30d0dff828d3"
      },
      "execution_count": 2,
      "outputs": [
        {
          "output_type": "stream",
          "name": "stdout",
          "text": [
            "Mounted at /content/drive\n"
          ]
        }
      ]
    },
    {
      "cell_type": "code",
      "execution_count": 113,
      "metadata": {
        "id": "znQit70ZRVoA"
      },
      "outputs": [],
      "source": [
        "data = pd.read_csv(\"./drive/MyDrive/Colab Notebooks/ToBigs/week2_regression&optimization/assignment3_creditcard.csv\")"
      ]
    },
    {
      "cell_type": "code",
      "execution_count": 114,
      "metadata": {
        "colab": {
          "base_uri": "https://localhost:8080/",
          "height": 299
        },
        "id": "v98OeXW5RVoB",
        "outputId": "79ed4ffc-a2fc-4b23-f121-ed4a41a2a4d5"
      },
      "outputs": [
        {
          "output_type": "execute_result",
          "data": {
            "text/plain": [
              "         V1        V2        V3        V4        V5        V6        V7  \\\n",
              "0 -1.848212  2.384900  0.379573  1.048381 -0.845070  2.537837 -4.542983   \n",
              "1  2.071805 -0.477943 -1.444444 -0.548657  0.010036 -0.582242 -0.042878   \n",
              "2 -2.985294 -2.747472  1.194068 -0.003036 -1.151041 -0.263559  0.553500   \n",
              "3 -1.479452  1.542874  0.290895  0.838142 -0.529290 -0.717661  0.484516   \n",
              "4 -0.281976 -0.309699 -2.162299 -0.851514  0.106167 -1.483888  1.930994   \n",
              "\n",
              "          V8        V9       V10  ...       V20       V21       V22       V23  \\\n",
              "0 -10.201458 -1.504967 -2.234167  ...  2.585817 -5.291690  0.859364  0.423231   \n",
              "1  -0.247160  1.171923 -0.342382  ... -0.077306  0.042858  0.390125  0.041569   \n",
              "2   0.635600  0.438545 -1.806488  ...  1.345776  0.373760 -0.385777  1.197596   \n",
              "3   0.545092 -0.780767  0.324804  ...  0.038397  0.116771  0.405560 -0.116453   \n",
              "4  -0.843049 -1.249272  1.079608  ... -0.875516 -0.004199  1.015108 -0.026748   \n",
              "\n",
              "        V24       V25       V26       V27       V28  Class  \n",
              "0 -0.506985  1.020052 -0.627751 -0.017753  0.280982      0  \n",
              "1  0.598427  0.098803  0.979686 -0.093244 -0.065615      0  \n",
              "2  0.407229  0.008013  0.762362 -0.299024 -0.303929      0  \n",
              "3  0.541275 -0.216665 -0.415578  0.027126 -0.150347      0  \n",
              "4  0.077115 -1.468822  0.751700  0.496732  0.331001      0  \n",
              "\n",
              "[5 rows x 29 columns]"
            ],
            "text/html": [
              "\n",
              "  <div id=\"df-026b226b-9ca5-4fcc-8b7d-95459ffb3bfa\">\n",
              "    <div class=\"colab-df-container\">\n",
              "      <div>\n",
              "<style scoped>\n",
              "    .dataframe tbody tr th:only-of-type {\n",
              "        vertical-align: middle;\n",
              "    }\n",
              "\n",
              "    .dataframe tbody tr th {\n",
              "        vertical-align: top;\n",
              "    }\n",
              "\n",
              "    .dataframe thead th {\n",
              "        text-align: right;\n",
              "    }\n",
              "</style>\n",
              "<table border=\"1\" class=\"dataframe\">\n",
              "  <thead>\n",
              "    <tr style=\"text-align: right;\">\n",
              "      <th></th>\n",
              "      <th>V1</th>\n",
              "      <th>V2</th>\n",
              "      <th>V3</th>\n",
              "      <th>V4</th>\n",
              "      <th>V5</th>\n",
              "      <th>V6</th>\n",
              "      <th>V7</th>\n",
              "      <th>V8</th>\n",
              "      <th>V9</th>\n",
              "      <th>V10</th>\n",
              "      <th>...</th>\n",
              "      <th>V20</th>\n",
              "      <th>V21</th>\n",
              "      <th>V22</th>\n",
              "      <th>V23</th>\n",
              "      <th>V24</th>\n",
              "      <th>V25</th>\n",
              "      <th>V26</th>\n",
              "      <th>V27</th>\n",
              "      <th>V28</th>\n",
              "      <th>Class</th>\n",
              "    </tr>\n",
              "  </thead>\n",
              "  <tbody>\n",
              "    <tr>\n",
              "      <th>0</th>\n",
              "      <td>-1.848212</td>\n",
              "      <td>2.384900</td>\n",
              "      <td>0.379573</td>\n",
              "      <td>1.048381</td>\n",
              "      <td>-0.845070</td>\n",
              "      <td>2.537837</td>\n",
              "      <td>-4.542983</td>\n",
              "      <td>-10.201458</td>\n",
              "      <td>-1.504967</td>\n",
              "      <td>-2.234167</td>\n",
              "      <td>...</td>\n",
              "      <td>2.585817</td>\n",
              "      <td>-5.291690</td>\n",
              "      <td>0.859364</td>\n",
              "      <td>0.423231</td>\n",
              "      <td>-0.506985</td>\n",
              "      <td>1.020052</td>\n",
              "      <td>-0.627751</td>\n",
              "      <td>-0.017753</td>\n",
              "      <td>0.280982</td>\n",
              "      <td>0</td>\n",
              "    </tr>\n",
              "    <tr>\n",
              "      <th>1</th>\n",
              "      <td>2.071805</td>\n",
              "      <td>-0.477943</td>\n",
              "      <td>-1.444444</td>\n",
              "      <td>-0.548657</td>\n",
              "      <td>0.010036</td>\n",
              "      <td>-0.582242</td>\n",
              "      <td>-0.042878</td>\n",
              "      <td>-0.247160</td>\n",
              "      <td>1.171923</td>\n",
              "      <td>-0.342382</td>\n",
              "      <td>...</td>\n",
              "      <td>-0.077306</td>\n",
              "      <td>0.042858</td>\n",
              "      <td>0.390125</td>\n",
              "      <td>0.041569</td>\n",
              "      <td>0.598427</td>\n",
              "      <td>0.098803</td>\n",
              "      <td>0.979686</td>\n",
              "      <td>-0.093244</td>\n",
              "      <td>-0.065615</td>\n",
              "      <td>0</td>\n",
              "    </tr>\n",
              "    <tr>\n",
              "      <th>2</th>\n",
              "      <td>-2.985294</td>\n",
              "      <td>-2.747472</td>\n",
              "      <td>1.194068</td>\n",
              "      <td>-0.003036</td>\n",
              "      <td>-1.151041</td>\n",
              "      <td>-0.263559</td>\n",
              "      <td>0.553500</td>\n",
              "      <td>0.635600</td>\n",
              "      <td>0.438545</td>\n",
              "      <td>-1.806488</td>\n",
              "      <td>...</td>\n",
              "      <td>1.345776</td>\n",
              "      <td>0.373760</td>\n",
              "      <td>-0.385777</td>\n",
              "      <td>1.197596</td>\n",
              "      <td>0.407229</td>\n",
              "      <td>0.008013</td>\n",
              "      <td>0.762362</td>\n",
              "      <td>-0.299024</td>\n",
              "      <td>-0.303929</td>\n",
              "      <td>0</td>\n",
              "    </tr>\n",
              "    <tr>\n",
              "      <th>3</th>\n",
              "      <td>-1.479452</td>\n",
              "      <td>1.542874</td>\n",
              "      <td>0.290895</td>\n",
              "      <td>0.838142</td>\n",
              "      <td>-0.529290</td>\n",
              "      <td>-0.717661</td>\n",
              "      <td>0.484516</td>\n",
              "      <td>0.545092</td>\n",
              "      <td>-0.780767</td>\n",
              "      <td>0.324804</td>\n",
              "      <td>...</td>\n",
              "      <td>0.038397</td>\n",
              "      <td>0.116771</td>\n",
              "      <td>0.405560</td>\n",
              "      <td>-0.116453</td>\n",
              "      <td>0.541275</td>\n",
              "      <td>-0.216665</td>\n",
              "      <td>-0.415578</td>\n",
              "      <td>0.027126</td>\n",
              "      <td>-0.150347</td>\n",
              "      <td>0</td>\n",
              "    </tr>\n",
              "    <tr>\n",
              "      <th>4</th>\n",
              "      <td>-0.281976</td>\n",
              "      <td>-0.309699</td>\n",
              "      <td>-2.162299</td>\n",
              "      <td>-0.851514</td>\n",
              "      <td>0.106167</td>\n",
              "      <td>-1.483888</td>\n",
              "      <td>1.930994</td>\n",
              "      <td>-0.843049</td>\n",
              "      <td>-1.249272</td>\n",
              "      <td>1.079608</td>\n",
              "      <td>...</td>\n",
              "      <td>-0.875516</td>\n",
              "      <td>-0.004199</td>\n",
              "      <td>1.015108</td>\n",
              "      <td>-0.026748</td>\n",
              "      <td>0.077115</td>\n",
              "      <td>-1.468822</td>\n",
              "      <td>0.751700</td>\n",
              "      <td>0.496732</td>\n",
              "      <td>0.331001</td>\n",
              "      <td>0</td>\n",
              "    </tr>\n",
              "  </tbody>\n",
              "</table>\n",
              "<p>5 rows × 29 columns</p>\n",
              "</div>\n",
              "      <button class=\"colab-df-convert\" onclick=\"convertToInteractive('df-026b226b-9ca5-4fcc-8b7d-95459ffb3bfa')\"\n",
              "              title=\"Convert this dataframe to an interactive table.\"\n",
              "              style=\"display:none;\">\n",
              "        \n",
              "  <svg xmlns=\"http://www.w3.org/2000/svg\" height=\"24px\"viewBox=\"0 0 24 24\"\n",
              "       width=\"24px\">\n",
              "    <path d=\"M0 0h24v24H0V0z\" fill=\"none\"/>\n",
              "    <path d=\"M18.56 5.44l.94 2.06.94-2.06 2.06-.94-2.06-.94-.94-2.06-.94 2.06-2.06.94zm-11 1L8.5 8.5l.94-2.06 2.06-.94-2.06-.94L8.5 2.5l-.94 2.06-2.06.94zm10 10l.94 2.06.94-2.06 2.06-.94-2.06-.94-.94-2.06-.94 2.06-2.06.94z\"/><path d=\"M17.41 7.96l-1.37-1.37c-.4-.4-.92-.59-1.43-.59-.52 0-1.04.2-1.43.59L10.3 9.45l-7.72 7.72c-.78.78-.78 2.05 0 2.83L4 21.41c.39.39.9.59 1.41.59.51 0 1.02-.2 1.41-.59l7.78-7.78 2.81-2.81c.8-.78.8-2.07 0-2.86zM5.41 20L4 18.59l7.72-7.72 1.47 1.35L5.41 20z\"/>\n",
              "  </svg>\n",
              "      </button>\n",
              "      \n",
              "  <style>\n",
              "    .colab-df-container {\n",
              "      display:flex;\n",
              "      flex-wrap:wrap;\n",
              "      gap: 12px;\n",
              "    }\n",
              "\n",
              "    .colab-df-convert {\n",
              "      background-color: #E8F0FE;\n",
              "      border: none;\n",
              "      border-radius: 50%;\n",
              "      cursor: pointer;\n",
              "      display: none;\n",
              "      fill: #1967D2;\n",
              "      height: 32px;\n",
              "      padding: 0 0 0 0;\n",
              "      width: 32px;\n",
              "    }\n",
              "\n",
              "    .colab-df-convert:hover {\n",
              "      background-color: #E2EBFA;\n",
              "      box-shadow: 0px 1px 2px rgba(60, 64, 67, 0.3), 0px 1px 3px 1px rgba(60, 64, 67, 0.15);\n",
              "      fill: #174EA6;\n",
              "    }\n",
              "\n",
              "    [theme=dark] .colab-df-convert {\n",
              "      background-color: #3B4455;\n",
              "      fill: #D2E3FC;\n",
              "    }\n",
              "\n",
              "    [theme=dark] .colab-df-convert:hover {\n",
              "      background-color: #434B5C;\n",
              "      box-shadow: 0px 1px 3px 1px rgba(0, 0, 0, 0.15);\n",
              "      filter: drop-shadow(0px 1px 2px rgba(0, 0, 0, 0.3));\n",
              "      fill: #FFFFFF;\n",
              "    }\n",
              "  </style>\n",
              "\n",
              "      <script>\n",
              "        const buttonEl =\n",
              "          document.querySelector('#df-026b226b-9ca5-4fcc-8b7d-95459ffb3bfa button.colab-df-convert');\n",
              "        buttonEl.style.display =\n",
              "          google.colab.kernel.accessAllowed ? 'block' : 'none';\n",
              "\n",
              "        async function convertToInteractive(key) {\n",
              "          const element = document.querySelector('#df-026b226b-9ca5-4fcc-8b7d-95459ffb3bfa');\n",
              "          const dataTable =\n",
              "            await google.colab.kernel.invokeFunction('convertToInteractive',\n",
              "                                                     [key], {});\n",
              "          if (!dataTable) return;\n",
              "\n",
              "          const docLinkHtml = 'Like what you see? Visit the ' +\n",
              "            '<a target=\"_blank\" href=https://colab.research.google.com/notebooks/data_table.ipynb>data table notebook</a>'\n",
              "            + ' to learn more about interactive tables.';\n",
              "          element.innerHTML = '';\n",
              "          dataTable['output_type'] = 'display_data';\n",
              "          await google.colab.output.renderOutput(dataTable, element);\n",
              "          const docLink = document.createElement('div');\n",
              "          docLink.innerHTML = docLinkHtml;\n",
              "          element.appendChild(docLink);\n",
              "        }\n",
              "      </script>\n",
              "    </div>\n",
              "  </div>\n",
              "  "
            ]
          },
          "metadata": {},
          "execution_count": 114
        }
      ],
      "source": [
        "data.head()"
      ]
    },
    {
      "cell_type": "code",
      "source": [
        "data.info()"
      ],
      "metadata": {
        "colab": {
          "base_uri": "https://localhost:8080/"
        },
        "id": "8m4B3KwBHEra",
        "outputId": "82b63d9e-ad02-49c7-c86d-7543f5e78d21"
      },
      "execution_count": 115,
      "outputs": [
        {
          "output_type": "stream",
          "name": "stdout",
          "text": [
            "<class 'pandas.core.frame.DataFrame'>\n",
            "RangeIndex: 28678 entries, 0 to 28677\n",
            "Data columns (total 29 columns):\n",
            " #   Column  Non-Null Count  Dtype  \n",
            "---  ------  --------------  -----  \n",
            " 0   V1      28678 non-null  float64\n",
            " 1   V2      28678 non-null  float64\n",
            " 2   V3      28678 non-null  float64\n",
            " 3   V4      28678 non-null  float64\n",
            " 4   V5      28678 non-null  float64\n",
            " 5   V6      28678 non-null  float64\n",
            " 6   V7      28678 non-null  float64\n",
            " 7   V8      28678 non-null  float64\n",
            " 8   V9      28678 non-null  float64\n",
            " 9   V10     28678 non-null  float64\n",
            " 10  V11     28678 non-null  float64\n",
            " 11  V12     28678 non-null  float64\n",
            " 12  V13     28678 non-null  float64\n",
            " 13  V14     28678 non-null  float64\n",
            " 14  V15     28678 non-null  float64\n",
            " 15  V16     28678 non-null  float64\n",
            " 16  V17     28678 non-null  float64\n",
            " 17  V18     28678 non-null  float64\n",
            " 18  V19     28678 non-null  float64\n",
            " 19  V20     28678 non-null  float64\n",
            " 20  V21     28678 non-null  float64\n",
            " 21  V22     28678 non-null  float64\n",
            " 22  V23     28678 non-null  float64\n",
            " 23  V24     28678 non-null  float64\n",
            " 24  V25     28678 non-null  float64\n",
            " 25  V26     28678 non-null  float64\n",
            " 26  V27     28678 non-null  float64\n",
            " 27  V28     28678 non-null  float64\n",
            " 28  Class   28678 non-null  int64  \n",
            "dtypes: float64(28), int64(1)\n",
            "memory usage: 6.3 MB\n"
          ]
        }
      ]
    },
    {
      "cell_type": "code",
      "source": [
        "# X, y값 설정해주기\n",
        "y = data['Class']\n",
        "X = data.drop(['Class'], axis=1)"
      ],
      "metadata": {
        "id": "tXxm9cxQJKue"
      },
      "execution_count": 116,
      "outputs": []
    },
    {
      "cell_type": "code",
      "source": [
        "y.value_counts()\n",
        "# 0의 값이 28432, 1의 값이 246으로 한쪽으로 치우쳐저 있음을 알 수 있다. "
      ],
      "metadata": {
        "colab": {
          "base_uri": "https://localhost:8080/"
        },
        "id": "OjshzX_mHEt1",
        "outputId": "d334f226-644e-4d29-b558-a00d2399f616"
      },
      "execution_count": 117,
      "outputs": [
        {
          "output_type": "execute_result",
          "data": {
            "text/plain": [
              "0    28432\n",
              "1      246\n",
              "Name: Class, dtype: int64"
            ]
          },
          "metadata": {},
          "execution_count": 117
        }
      ]
    },
    {
      "cell_type": "code",
      "source": [
        "X.describe()"
      ],
      "metadata": {
        "colab": {
          "base_uri": "https://localhost:8080/",
          "height": 393
        },
        "id": "-wi08XvHHEyJ",
        "outputId": "f23731e1-e202-4163-e548-cce6028c8ef4"
      },
      "execution_count": 118,
      "outputs": [
        {
          "output_type": "execute_result",
          "data": {
            "text/plain": [
              "                 V1            V2            V3            V4            V5  \\\n",
              "count  28678.000000  28678.000000  28678.000000  28678.000000  28678.000000   \n",
              "mean      -0.015438      0.053653     -0.046031      0.037348     -0.033724   \n",
              "std        2.031529      1.616186      1.758169      1.482109      1.486998   \n",
              "min      -30.552380    -42.172688    -31.103685     -5.560118    -42.147898   \n",
              "25%       -0.916927     -0.575381     -0.899872     -0.843321     -0.714901   \n",
              "50%        0.020050      0.075358      0.180610     -0.008844     -0.060040   \n",
              "75%        1.317461      0.806957      1.029928      0.771958      0.613328   \n",
              "max        2.399484     21.467203      4.069865     11.927512     32.911462   \n",
              "\n",
              "                 V6            V7            V8            V9           V10  \\\n",
              "count  28678.000000  28678.000000  28678.000000  28678.000000  28678.000000   \n",
              "mean      -0.003299     -0.051054      0.006064     -0.018530     -0.041149   \n",
              "std        1.339259      1.454827      1.364342      1.134065      1.252593   \n",
              "min      -21.929312    -41.506796    -39.267378    -13.434066    -24.403185   \n",
              "25%       -0.763757     -0.568146     -0.206103     -0.661909     -0.543450   \n",
              "50%       -0.271363      0.036107      0.022463     -0.055095     -0.097390   \n",
              "75%        0.397269      0.559409      0.329606      0.605704      0.460681   \n",
              "max       22.529298     36.677268     20.007208      8.113152     15.236028   \n",
              "\n",
              "       ...           V19           V20           V21           V22  \\\n",
              "count  ...  28678.000000  28678.000000  28678.000000  28678.000000   \n",
              "mean   ...      0.007183      0.002633      0.010289     -0.000656   \n",
              "std    ...      0.827420      0.720307      0.847152      0.739469   \n",
              "min    ...     -4.619034    -21.387122    -21.453736     -8.887017   \n",
              "25%    ...     -0.459073     -0.209678     -0.225520     -0.539244   \n",
              "50%    ...      0.002111     -0.062792     -0.028778      0.007302   \n",
              "75%    ...      0.467781      0.131199      0.184312      0.526358   \n",
              "max    ...      5.228342     26.237391     27.202839      8.361985   \n",
              "\n",
              "                V23           V24           V25           V26           V27  \\\n",
              "count  28678.000000  28678.000000  28678.000000  28678.000000  28678.000000   \n",
              "mean      -0.004800     -0.000897     -0.001989     -0.000765      0.000948   \n",
              "std        0.593663      0.603349      0.517968      0.483852      0.397075   \n",
              "min      -36.666000     -2.718024     -6.712624     -2.241620     -7.418878   \n",
              "25%       -0.160583     -0.356047     -0.318619     -0.327343     -0.070558   \n",
              "50%       -0.011199      0.040006      0.019770     -0.056260      0.002049   \n",
              "75%        0.146835      0.437146      0.352717      0.240713      0.091637   \n",
              "max        9.637187      3.948061      2.510401      3.122747     11.135740   \n",
              "\n",
              "                V28  \n",
              "count  28678.000000  \n",
              "mean       0.001535  \n",
              "std        0.296736  \n",
              "min       -9.617915  \n",
              "25%       -0.052189  \n",
              "50%        0.011075  \n",
              "75%        0.078911  \n",
              "max       14.929133  \n",
              "\n",
              "[8 rows x 28 columns]"
            ],
            "text/html": [
              "\n",
              "  <div id=\"df-dfb536e8-6f2a-4a77-8256-9b5d2bc77cb7\">\n",
              "    <div class=\"colab-df-container\">\n",
              "      <div>\n",
              "<style scoped>\n",
              "    .dataframe tbody tr th:only-of-type {\n",
              "        vertical-align: middle;\n",
              "    }\n",
              "\n",
              "    .dataframe tbody tr th {\n",
              "        vertical-align: top;\n",
              "    }\n",
              "\n",
              "    .dataframe thead th {\n",
              "        text-align: right;\n",
              "    }\n",
              "</style>\n",
              "<table border=\"1\" class=\"dataframe\">\n",
              "  <thead>\n",
              "    <tr style=\"text-align: right;\">\n",
              "      <th></th>\n",
              "      <th>V1</th>\n",
              "      <th>V2</th>\n",
              "      <th>V3</th>\n",
              "      <th>V4</th>\n",
              "      <th>V5</th>\n",
              "      <th>V6</th>\n",
              "      <th>V7</th>\n",
              "      <th>V8</th>\n",
              "      <th>V9</th>\n",
              "      <th>V10</th>\n",
              "      <th>...</th>\n",
              "      <th>V19</th>\n",
              "      <th>V20</th>\n",
              "      <th>V21</th>\n",
              "      <th>V22</th>\n",
              "      <th>V23</th>\n",
              "      <th>V24</th>\n",
              "      <th>V25</th>\n",
              "      <th>V26</th>\n",
              "      <th>V27</th>\n",
              "      <th>V28</th>\n",
              "    </tr>\n",
              "  </thead>\n",
              "  <tbody>\n",
              "    <tr>\n",
              "      <th>count</th>\n",
              "      <td>28678.000000</td>\n",
              "      <td>28678.000000</td>\n",
              "      <td>28678.000000</td>\n",
              "      <td>28678.000000</td>\n",
              "      <td>28678.000000</td>\n",
              "      <td>28678.000000</td>\n",
              "      <td>28678.000000</td>\n",
              "      <td>28678.000000</td>\n",
              "      <td>28678.000000</td>\n",
              "      <td>28678.000000</td>\n",
              "      <td>...</td>\n",
              "      <td>28678.000000</td>\n",
              "      <td>28678.000000</td>\n",
              "      <td>28678.000000</td>\n",
              "      <td>28678.000000</td>\n",
              "      <td>28678.000000</td>\n",
              "      <td>28678.000000</td>\n",
              "      <td>28678.000000</td>\n",
              "      <td>28678.000000</td>\n",
              "      <td>28678.000000</td>\n",
              "      <td>28678.000000</td>\n",
              "    </tr>\n",
              "    <tr>\n",
              "      <th>mean</th>\n",
              "      <td>-0.015438</td>\n",
              "      <td>0.053653</td>\n",
              "      <td>-0.046031</td>\n",
              "      <td>0.037348</td>\n",
              "      <td>-0.033724</td>\n",
              "      <td>-0.003299</td>\n",
              "      <td>-0.051054</td>\n",
              "      <td>0.006064</td>\n",
              "      <td>-0.018530</td>\n",
              "      <td>-0.041149</td>\n",
              "      <td>...</td>\n",
              "      <td>0.007183</td>\n",
              "      <td>0.002633</td>\n",
              "      <td>0.010289</td>\n",
              "      <td>-0.000656</td>\n",
              "      <td>-0.004800</td>\n",
              "      <td>-0.000897</td>\n",
              "      <td>-0.001989</td>\n",
              "      <td>-0.000765</td>\n",
              "      <td>0.000948</td>\n",
              "      <td>0.001535</td>\n",
              "    </tr>\n",
              "    <tr>\n",
              "      <th>std</th>\n",
              "      <td>2.031529</td>\n",
              "      <td>1.616186</td>\n",
              "      <td>1.758169</td>\n",
              "      <td>1.482109</td>\n",
              "      <td>1.486998</td>\n",
              "      <td>1.339259</td>\n",
              "      <td>1.454827</td>\n",
              "      <td>1.364342</td>\n",
              "      <td>1.134065</td>\n",
              "      <td>1.252593</td>\n",
              "      <td>...</td>\n",
              "      <td>0.827420</td>\n",
              "      <td>0.720307</td>\n",
              "      <td>0.847152</td>\n",
              "      <td>0.739469</td>\n",
              "      <td>0.593663</td>\n",
              "      <td>0.603349</td>\n",
              "      <td>0.517968</td>\n",
              "      <td>0.483852</td>\n",
              "      <td>0.397075</td>\n",
              "      <td>0.296736</td>\n",
              "    </tr>\n",
              "    <tr>\n",
              "      <th>min</th>\n",
              "      <td>-30.552380</td>\n",
              "      <td>-42.172688</td>\n",
              "      <td>-31.103685</td>\n",
              "      <td>-5.560118</td>\n",
              "      <td>-42.147898</td>\n",
              "      <td>-21.929312</td>\n",
              "      <td>-41.506796</td>\n",
              "      <td>-39.267378</td>\n",
              "      <td>-13.434066</td>\n",
              "      <td>-24.403185</td>\n",
              "      <td>...</td>\n",
              "      <td>-4.619034</td>\n",
              "      <td>-21.387122</td>\n",
              "      <td>-21.453736</td>\n",
              "      <td>-8.887017</td>\n",
              "      <td>-36.666000</td>\n",
              "      <td>-2.718024</td>\n",
              "      <td>-6.712624</td>\n",
              "      <td>-2.241620</td>\n",
              "      <td>-7.418878</td>\n",
              "      <td>-9.617915</td>\n",
              "    </tr>\n",
              "    <tr>\n",
              "      <th>25%</th>\n",
              "      <td>-0.916927</td>\n",
              "      <td>-0.575381</td>\n",
              "      <td>-0.899872</td>\n",
              "      <td>-0.843321</td>\n",
              "      <td>-0.714901</td>\n",
              "      <td>-0.763757</td>\n",
              "      <td>-0.568146</td>\n",
              "      <td>-0.206103</td>\n",
              "      <td>-0.661909</td>\n",
              "      <td>-0.543450</td>\n",
              "      <td>...</td>\n",
              "      <td>-0.459073</td>\n",
              "      <td>-0.209678</td>\n",
              "      <td>-0.225520</td>\n",
              "      <td>-0.539244</td>\n",
              "      <td>-0.160583</td>\n",
              "      <td>-0.356047</td>\n",
              "      <td>-0.318619</td>\n",
              "      <td>-0.327343</td>\n",
              "      <td>-0.070558</td>\n",
              "      <td>-0.052189</td>\n",
              "    </tr>\n",
              "    <tr>\n",
              "      <th>50%</th>\n",
              "      <td>0.020050</td>\n",
              "      <td>0.075358</td>\n",
              "      <td>0.180610</td>\n",
              "      <td>-0.008844</td>\n",
              "      <td>-0.060040</td>\n",
              "      <td>-0.271363</td>\n",
              "      <td>0.036107</td>\n",
              "      <td>0.022463</td>\n",
              "      <td>-0.055095</td>\n",
              "      <td>-0.097390</td>\n",
              "      <td>...</td>\n",
              "      <td>0.002111</td>\n",
              "      <td>-0.062792</td>\n",
              "      <td>-0.028778</td>\n",
              "      <td>0.007302</td>\n",
              "      <td>-0.011199</td>\n",
              "      <td>0.040006</td>\n",
              "      <td>0.019770</td>\n",
              "      <td>-0.056260</td>\n",
              "      <td>0.002049</td>\n",
              "      <td>0.011075</td>\n",
              "    </tr>\n",
              "    <tr>\n",
              "      <th>75%</th>\n",
              "      <td>1.317461</td>\n",
              "      <td>0.806957</td>\n",
              "      <td>1.029928</td>\n",
              "      <td>0.771958</td>\n",
              "      <td>0.613328</td>\n",
              "      <td>0.397269</td>\n",
              "      <td>0.559409</td>\n",
              "      <td>0.329606</td>\n",
              "      <td>0.605704</td>\n",
              "      <td>0.460681</td>\n",
              "      <td>...</td>\n",
              "      <td>0.467781</td>\n",
              "      <td>0.131199</td>\n",
              "      <td>0.184312</td>\n",
              "      <td>0.526358</td>\n",
              "      <td>0.146835</td>\n",
              "      <td>0.437146</td>\n",
              "      <td>0.352717</td>\n",
              "      <td>0.240713</td>\n",
              "      <td>0.091637</td>\n",
              "      <td>0.078911</td>\n",
              "    </tr>\n",
              "    <tr>\n",
              "      <th>max</th>\n",
              "      <td>2.399484</td>\n",
              "      <td>21.467203</td>\n",
              "      <td>4.069865</td>\n",
              "      <td>11.927512</td>\n",
              "      <td>32.911462</td>\n",
              "      <td>22.529298</td>\n",
              "      <td>36.677268</td>\n",
              "      <td>20.007208</td>\n",
              "      <td>8.113152</td>\n",
              "      <td>15.236028</td>\n",
              "      <td>...</td>\n",
              "      <td>5.228342</td>\n",
              "      <td>26.237391</td>\n",
              "      <td>27.202839</td>\n",
              "      <td>8.361985</td>\n",
              "      <td>9.637187</td>\n",
              "      <td>3.948061</td>\n",
              "      <td>2.510401</td>\n",
              "      <td>3.122747</td>\n",
              "      <td>11.135740</td>\n",
              "      <td>14.929133</td>\n",
              "    </tr>\n",
              "  </tbody>\n",
              "</table>\n",
              "<p>8 rows × 28 columns</p>\n",
              "</div>\n",
              "      <button class=\"colab-df-convert\" onclick=\"convertToInteractive('df-dfb536e8-6f2a-4a77-8256-9b5d2bc77cb7')\"\n",
              "              title=\"Convert this dataframe to an interactive table.\"\n",
              "              style=\"display:none;\">\n",
              "        \n",
              "  <svg xmlns=\"http://www.w3.org/2000/svg\" height=\"24px\"viewBox=\"0 0 24 24\"\n",
              "       width=\"24px\">\n",
              "    <path d=\"M0 0h24v24H0V0z\" fill=\"none\"/>\n",
              "    <path d=\"M18.56 5.44l.94 2.06.94-2.06 2.06-.94-2.06-.94-.94-2.06-.94 2.06-2.06.94zm-11 1L8.5 8.5l.94-2.06 2.06-.94-2.06-.94L8.5 2.5l-.94 2.06-2.06.94zm10 10l.94 2.06.94-2.06 2.06-.94-2.06-.94-.94-2.06-.94 2.06-2.06.94z\"/><path d=\"M17.41 7.96l-1.37-1.37c-.4-.4-.92-.59-1.43-.59-.52 0-1.04.2-1.43.59L10.3 9.45l-7.72 7.72c-.78.78-.78 2.05 0 2.83L4 21.41c.39.39.9.59 1.41.59.51 0 1.02-.2 1.41-.59l7.78-7.78 2.81-2.81c.8-.78.8-2.07 0-2.86zM5.41 20L4 18.59l7.72-7.72 1.47 1.35L5.41 20z\"/>\n",
              "  </svg>\n",
              "      </button>\n",
              "      \n",
              "  <style>\n",
              "    .colab-df-container {\n",
              "      display:flex;\n",
              "      flex-wrap:wrap;\n",
              "      gap: 12px;\n",
              "    }\n",
              "\n",
              "    .colab-df-convert {\n",
              "      background-color: #E8F0FE;\n",
              "      border: none;\n",
              "      border-radius: 50%;\n",
              "      cursor: pointer;\n",
              "      display: none;\n",
              "      fill: #1967D2;\n",
              "      height: 32px;\n",
              "      padding: 0 0 0 0;\n",
              "      width: 32px;\n",
              "    }\n",
              "\n",
              "    .colab-df-convert:hover {\n",
              "      background-color: #E2EBFA;\n",
              "      box-shadow: 0px 1px 2px rgba(60, 64, 67, 0.3), 0px 1px 3px 1px rgba(60, 64, 67, 0.15);\n",
              "      fill: #174EA6;\n",
              "    }\n",
              "\n",
              "    [theme=dark] .colab-df-convert {\n",
              "      background-color: #3B4455;\n",
              "      fill: #D2E3FC;\n",
              "    }\n",
              "\n",
              "    [theme=dark] .colab-df-convert:hover {\n",
              "      background-color: #434B5C;\n",
              "      box-shadow: 0px 1px 3px 1px rgba(0, 0, 0, 0.15);\n",
              "      filter: drop-shadow(0px 1px 2px rgba(0, 0, 0, 0.3));\n",
              "      fill: #FFFFFF;\n",
              "    }\n",
              "  </style>\n",
              "\n",
              "      <script>\n",
              "        const buttonEl =\n",
              "          document.querySelector('#df-dfb536e8-6f2a-4a77-8256-9b5d2bc77cb7 button.colab-df-convert');\n",
              "        buttonEl.style.display =\n",
              "          google.colab.kernel.accessAllowed ? 'block' : 'none';\n",
              "\n",
              "        async function convertToInteractive(key) {\n",
              "          const element = document.querySelector('#df-dfb536e8-6f2a-4a77-8256-9b5d2bc77cb7');\n",
              "          const dataTable =\n",
              "            await google.colab.kernel.invokeFunction('convertToInteractive',\n",
              "                                                     [key], {});\n",
              "          if (!dataTable) return;\n",
              "\n",
              "          const docLinkHtml = 'Like what you see? Visit the ' +\n",
              "            '<a target=\"_blank\" href=https://colab.research.google.com/notebooks/data_table.ipynb>data table notebook</a>'\n",
              "            + ' to learn more about interactive tables.';\n",
              "          element.innerHTML = '';\n",
              "          dataTable['output_type'] = 'display_data';\n",
              "          await google.colab.output.renderOutput(dataTable, element);\n",
              "          const docLink = document.createElement('div');\n",
              "          docLink.innerHTML = docLinkHtml;\n",
              "          element.appendChild(docLink);\n",
              "        }\n",
              "      </script>\n",
              "    </div>\n",
              "  </div>\n",
              "  "
            ]
          },
          "metadata": {},
          "execution_count": 118
        }
      ]
    },
    {
      "cell_type": "code",
      "source": [
        "# 성능 개선 전에, 먼저 회귀분석 진행해보고 성능 확인하기\n",
        "from sklearn.linear_model import LogisticRegression\n",
        "from sklearn.model_selection import train_test_split\n",
        "\n",
        "X_train, X_test, y_train, y_test = train_test_split(X, y, test_size=0.2, random_state = 123)"
      ],
      "metadata": {
        "id": "RawwpCaoLOe8"
      },
      "execution_count": 119,
      "outputs": []
    },
    {
      "cell_type": "code",
      "source": [
        "# 모형\n",
        "model = LogisticRegression()\n",
        "model.fit(X_train,y_train)"
      ],
      "metadata": {
        "colab": {
          "base_uri": "https://localhost:8080/"
        },
        "id": "auo6fa55LOhR",
        "outputId": "6a9b8e5c-5b92-4e7a-ee72-3b5b50b86c55"
      },
      "execution_count": 120,
      "outputs": [
        {
          "output_type": "execute_result",
          "data": {
            "text/plain": [
              "LogisticRegression()"
            ]
          },
          "metadata": {},
          "execution_count": 120
        }
      ]
    },
    {
      "cell_type": "code",
      "source": [
        "# y 예측값 확인해주기\n",
        "y_pred = model.predict(X_test) "
      ],
      "metadata": {
        "id": "6dn4_lS0LOkD"
      },
      "execution_count": 121,
      "outputs": []
    },
    {
      "cell_type": "code",
      "source": [
        "# 성능 평가해주기\n",
        "from sklearn.metrics import confusion_matrix, accuracy_score, roc_auc_score, roc_curve\n",
        "\n",
        "def metrics(y_pred, y_test):\n",
        "    f1 = f1_score(y_pred, y_test)\n",
        "    cfmat = confusion_matrix(y_test, y_pred)\n",
        "    tn, fp, fn, tp = confusion_matrix(y_test, y_pred).ravel()\n",
        "    acc = (tp + tn)/(fn + fp + tn + tp)\n",
        "    pre = (tp) / (tp + fp)\n",
        "    recall = (tp) / (tp + fn)\n",
        "    print('f1_score :', f1)\n",
        "    print('confusion_matrix :', cfmat)\n",
        "    print('정확도 accuracy :', acc)\n",
        "    print('정밀도 precision :', pre)\n",
        "    print('재현율 recall :', recall)"
      ],
      "metadata": {
        "id": "nk_CCk2_LOmf"
      },
      "execution_count": 122,
      "outputs": []
    },
    {
      "cell_type": "code",
      "source": [
        "metrics(y_pred, y_test)"
      ],
      "metadata": {
        "colab": {
          "base_uri": "https://localhost:8080/"
        },
        "id": "gKCGxJx9LOph",
        "outputId": "a05c8db5-cfcc-474b-fb2a-a343f5dce6ce"
      },
      "execution_count": 123,
      "outputs": [
        {
          "output_type": "stream",
          "name": "stdout",
          "text": [
            "f1_score : 0.7659574468085106\n",
            "confusion_matrix : [[5678    2]\n",
            " [  20   36]]\n",
            "정확도 accuracy : 0.9961645746164575\n",
            "정밀도 precision : 0.9473684210526315\n",
            "재현율 recall : 0.6428571428571429\n"
          ]
        }
      ]
    },
    {
      "cell_type": "code",
      "source": [
        "# ROC 커브 그리기\n",
        "fpr, tpr, thresholds = roc_curve(y_test, y_pred,pos_label = 1)\n",
        "\n",
        "plt.plot(fpr, tpr, 'o-', label=\"Logistic Regression\")\n",
        "plt.plot([0, 1], [0, 1], 'k--', label=\"random guess\")\n",
        "plt.xlabel('Fall-Out')\n",
        "plt.ylabel('Recall')\n",
        "plt.title('Receiver operating characteristic example')\n",
        "plt.show()\n",
        "\n",
        "print(\"auc : \", auc(fpr, tpr))\n",
        "# AUC값은 ROC 곡선 아래 너비\n",
        "# 1에 가까울 수록 좋음\n",
        "# 현재 모델의 AUC값은 0.821"
      ],
      "metadata": {
        "colab": {
          "base_uri": "https://localhost:8080/",
          "height": 313
        },
        "id": "GQqQv_iaLOuL",
        "outputId": "10f2880a-9ee6-4459-e4d4-b1ac8bb9588e"
      },
      "execution_count": 124,
      "outputs": [
        {
          "output_type": "display_data",
          "data": {
            "text/plain": [
              "<Figure size 432x288 with 1 Axes>"
            ],
            "image/png": "[encoded data removed]"
          },
          "metadata": {
            "needs_background": "light"
          }
        },
        {
          "output_type": "stream",
          "name": "stdout",
          "text": [
            "auc :  0.8212525150905431\n"
          ]
        }
      ]
    },
    {
      "cell_type": "markdown",
      "source": [
        "# 성능 개선하기"
      ],
      "metadata": {
        "id": "_LwG-tTjQjfe"
      }
    },
    {
      "cell_type": "code",
      "source": [
        "# 변수별로 데이터 분포 확인하기\n",
        "X.hist(bins=20, figsize=(20,15));\n",
        "# 한쪽으로 치우쳐져 있는 변수들이 많기 때문에, scaling 해주기"
      ],
      "metadata": {
        "colab": {
          "base_uri": "https://localhost:8080/",
          "height": 651
        },
        "id": "kDSCUmEPIIft",
        "outputId": "fa35a5fc-6ae9-4809-804d-b8085934154e"
      },
      "execution_count": 125,
      "outputs": [
        {
          "output_type": "display_data",
          "data": {
            "text/plain": [
              "<Figure size 1440x1080 with 30 Axes>"
            ],
            "image/png": "[encoded data removed]"
          },
          "metadata": {
            "needs_background": "light"
          }
        }
      ]
    },
    {
      "cell_type": "code",
      "source": [
        "# MinMaxsclaer 사용해서 scaling해주고 변수별로 분포 확인하기\n",
        "from sklearn.preprocessing import MinMaxScaler\n",
        "\n",
        "scaler = MinMaxScaler()\n",
        "\n",
        "X_scaled = pd.DataFrame(scaler.fit_transform(X), columns= X.columns)\n",
        "\n",
        "# 그래프 그려주기\n",
        "X_scaled.hist(bins=20, figsize=(20,15));"
      ],
      "metadata": {
        "colab": {
          "base_uri": "https://localhost:8080/",
          "height": 652
        },
        "id": "acdhWzVDIIs7",
        "outputId": "fd4bea1d-951e-48aa-f0ff-ce3eaf3fd295"
      },
      "execution_count": 126,
      "outputs": [
        {
          "output_type": "display_data",
          "data": {
            "text/plain": [
              "<Figure size 1440x1080 with 30 Axes>"
            ],
            "image/png": "[encoded data removed]"
          },
          "metadata": {
            "needs_background": "light"
          }
        }
      ]
    },
    {
      "cell_type": "code",
      "source": [
        "# train, test 분배할 때 0과 1의 균형에 따라 나누어주기\n",
        "# stratify 사용하기\n",
        "# 원래 데이터의 분포와 유사하게 데이터 추출해준다\n",
        "from sklearn.linear_model import LogisticRegression\n",
        "from sklearn.model_selection import train_test_split\n",
        "\n",
        "X_train, X_test, y_train, y_test = train_test_split(X_scaled, y, test_size=0.2, random_state = 123, stratify=y)"
      ],
      "metadata": {
        "id": "2_0kq5DiIIwj"
      },
      "execution_count": 127,
      "outputs": []
    },
    {
      "cell_type": "code",
      "source": [
        "# 모형\n",
        "model = LogisticRegression()\n",
        "model.fit(X_train, y_train)"
      ],
      "metadata": {
        "colab": {
          "base_uri": "https://localhost:8080/"
        },
        "id": "Vu2M2gUXKJxy",
        "outputId": "04c6c594-2640-4266-8d44-8ffbc2120fdb"
      },
      "execution_count": 128,
      "outputs": [
        {
          "output_type": "execute_result",
          "data": {
            "text/plain": [
              "LogisticRegression()"
            ]
          },
          "metadata": {},
          "execution_count": 128
        }
      ]
    },
    {
      "cell_type": "code",
      "source": [
        "# y 예측값 확인해주기\n",
        "y_pred = model.predict(X_test) "
      ],
      "metadata": {
        "id": "1cMrwW5IKJ0G"
      },
      "execution_count": 129,
      "outputs": []
    },
    {
      "cell_type": "code",
      "source": [
        "metrics(y_pred, y_test)"
      ],
      "metadata": {
        "colab": {
          "base_uri": "https://localhost:8080/"
        },
        "id": "wYVypcGrSPuY",
        "outputId": "74435362-9e24-4bd7-c85c-80642ff6aae1"
      },
      "execution_count": 130,
      "outputs": [
        {
          "output_type": "stream",
          "name": "stdout",
          "text": [
            "f1_score : 0.75\n",
            "confusion_matrix : [[5686    1]\n",
            " [  19   30]]\n",
            "정확도 accuracy : 0.9965132496513249\n",
            "정밀도 precision : 0.967741935483871\n",
            "재현율 recall : 0.6122448979591837\n"
          ]
        }
      ]
    },
    {
      "cell_type": "code",
      "source": [
        "# ROC 커브 그리기\n",
        "fpr, tpr, thresholds = roc_curve(y_test, y_pred, pos_label = 1)\n",
        "\n",
        "plt.plot(fpr, tpr, 'o-', label=\"Logistic Regression\")\n",
        "plt.plot([0, 1], [0, 1], 'k--', label=\"random guess\")\n",
        "plt.xlabel('Fall-Out')\n",
        "plt.ylabel('Recall')\n",
        "plt.title('Receiver operating characteristic example')\n",
        "plt.show()"
      ],
      "metadata": {
        "colab": {
          "base_uri": "https://localhost:8080/",
          "height": 332
        },
        "id": "G1M85sTBVgmR",
        "outputId": "e2cb661d-6211-4eb7-f0cc-01d4686a2582"
      },
      "execution_count": 135,
      "outputs": [
        {
          "output_type": "display_data",
          "data": {
            "text/plain": [
              "<Figure size 432x288 with 1 Axes>"
            ],
            "image/png": "[encoded data removed]"
          },
          "metadata": {
            "needs_background": "light"
          }
        },
        {
          "output_type": "stream",
          "name": "stdout",
          "text": [
            "idx: 1 , threshold: 1\n",
            "auc :  0.806034529162465\n"
          ]
        }
      ]
    },
    {
      "cell_type": "code",
      "source": [
        "# roc 데이터 프레임 만들고 최적의 임계값 확인하기\n",
        "roc = pd.DataFrame({\n",
        "    'FPR(Fall-out)': fpr, \n",
        "    'TPRate(Recall)': tpr, \n",
        "    'Threshold': thresholds\n",
        "})\n",
        "roc"
      ],
      "metadata": {
        "colab": {
          "base_uri": "https://localhost:8080/",
          "height": 143
        },
        "id": "4WgRp3RZXEMK",
        "outputId": "eeaa83e1-6392-4cc9-d0f8-a350066258cc"
      },
      "execution_count": 146,
      "outputs": [
        {
          "output_type": "execute_result",
          "data": {
            "text/plain": [
              "   FPR(Fall-out)  TPRate(Recall)  Threshold\n",
              "0       0.000000        0.000000          2\n",
              "1       0.000176        0.612245          1\n",
              "2       1.000000        1.000000          0"
            ],
            "text/html": [
              "\n",
              "  <div id=\"df-22f80497-47b5-4877-897a-b571983c1d05\">\n",
              "    <div class=\"colab-df-container\">\n",
              "      <div>\n",
              "<style scoped>\n",
              "    .dataframe tbody tr th:only-of-type {\n",
              "        vertical-align: middle;\n",
              "    }\n",
              "\n",
              "    .dataframe tbody tr th {\n",
              "        vertical-align: top;\n",
              "    }\n",
              "\n",
              "    .dataframe thead th {\n",
              "        text-align: right;\n",
              "    }\n",
              "</style>\n",
              "<table border=\"1\" class=\"dataframe\">\n",
              "  <thead>\n",
              "    <tr style=\"text-align: right;\">\n",
              "      <th></th>\n",
              "      <th>FPR(Fall-out)</th>\n",
              "      <th>TPRate(Recall)</th>\n",
              "      <th>Threshold</th>\n",
              "    </tr>\n",
              "  </thead>\n",
              "  <tbody>\n",
              "    <tr>\n",
              "      <th>0</th>\n",
              "      <td>0.000000</td>\n",
              "      <td>0.000000</td>\n",
              "      <td>2</td>\n",
              "    </tr>\n",
              "    <tr>\n",
              "      <th>1</th>\n",
              "      <td>0.000176</td>\n",
              "      <td>0.612245</td>\n",
              "      <td>1</td>\n",
              "    </tr>\n",
              "    <tr>\n",
              "      <th>2</th>\n",
              "      <td>1.000000</td>\n",
              "      <td>1.000000</td>\n",
              "      <td>0</td>\n",
              "    </tr>\n",
              "  </tbody>\n",
              "</table>\n",
              "</div>\n",
              "      <button class=\"colab-df-convert\" onclick=\"convertToInteractive('df-22f80497-47b5-4877-897a-b571983c1d05')\"\n",
              "              title=\"Convert this dataframe to an interactive table.\"\n",
              "              style=\"display:none;\">\n",
              "        \n",
              "  <svg xmlns=\"http://www.w3.org/2000/svg\" height=\"24px\"viewBox=\"0 0 24 24\"\n",
              "       width=\"24px\">\n",
              "    <path d=\"M0 0h24v24H0V0z\" fill=\"none\"/>\n",
              "    <path d=\"M18.56 5.44l.94 2.06.94-2.06 2.06-.94-2.06-.94-.94-2.06-.94 2.06-2.06.94zm-11 1L8.5 8.5l.94-2.06 2.06-.94-2.06-.94L8.5 2.5l-.94 2.06-2.06.94zm10 10l.94 2.06.94-2.06 2.06-.94-2.06-.94-.94-2.06-.94 2.06-2.06.94z\"/><path d=\"M17.41 7.96l-1.37-1.37c-.4-.4-.92-.59-1.43-.59-.52 0-1.04.2-1.43.59L10.3 9.45l-7.72 7.72c-.78.78-.78 2.05 0 2.83L4 21.41c.39.39.9.59 1.41.59.51 0 1.02-.2 1.41-.59l7.78-7.78 2.81-2.81c.8-.78.8-2.07 0-2.86zM5.41 20L4 18.59l7.72-7.72 1.47 1.35L5.41 20z\"/>\n",
              "  </svg>\n",
              "      </button>\n",
              "      \n",
              "  <style>\n",
              "    .colab-df-container {\n",
              "      display:flex;\n",
              "      flex-wrap:wrap;\n",
              "      gap: 12px;\n",
              "    }\n",
              "\n",
              "    .colab-df-convert {\n",
              "      background-color: #E8F0FE;\n",
              "      border: none;\n",
              "      border-radius: 50%;\n",
              "      cursor: pointer;\n",
              "      display: none;\n",
              "      fill: #1967D2;\n",
              "      height: 32px;\n",
              "      padding: 0 0 0 0;\n",
              "      width: 32px;\n",
              "    }\n",
              "\n",
              "    .colab-df-convert:hover {\n",
              "      background-color: #E2EBFA;\n",
              "      box-shadow: 0px 1px 2px rgba(60, 64, 67, 0.3), 0px 1px 3px 1px rgba(60, 64, 67, 0.15);\n",
              "      fill: #174EA6;\n",
              "    }\n",
              "\n",
              "    [theme=dark] .colab-df-convert {\n",
              "      background-color: #3B4455;\n",
              "      fill: #D2E3FC;\n",
              "    }\n",
              "\n",
              "    [theme=dark] .colab-df-convert:hover {\n",
              "      background-color: #434B5C;\n",
              "      box-shadow: 0px 1px 3px 1px rgba(0, 0, 0, 0.15);\n",
              "      filter: drop-shadow(0px 1px 2px rgba(0, 0, 0, 0.3));\n",
              "      fill: #FFFFFF;\n",
              "    }\n",
              "  </style>\n",
              "\n",
              "      <script>\n",
              "        const buttonEl =\n",
              "          document.querySelector('#df-22f80497-47b5-4877-897a-b571983c1d05 button.colab-df-convert');\n",
              "        buttonEl.style.display =\n",
              "          google.colab.kernel.accessAllowed ? 'block' : 'none';\n",
              "\n",
              "        async function convertToInteractive(key) {\n",
              "          const element = document.querySelector('#df-22f80497-47b5-4877-897a-b571983c1d05');\n",
              "          const dataTable =\n",
              "            await google.colab.kernel.invokeFunction('convertToInteractive',\n",
              "                                                     [key], {});\n",
              "          if (!dataTable) return;\n",
              "\n",
              "          const docLinkHtml = 'Like what you see? Visit the ' +\n",
              "            '<a target=\"_blank\" href=https://colab.research.google.com/notebooks/data_table.ipynb>data table notebook</a>'\n",
              "            + ' to learn more about interactive tables.';\n",
              "          element.innerHTML = '';\n",
              "          dataTable['output_type'] = 'display_data';\n",
              "          await google.colab.output.renderOutput(dataTable, element);\n",
              "          const docLink = document.createElement('div');\n",
              "          docLink.innerHTML = docLinkHtml;\n",
              "          element.appendChild(docLink);\n",
              "        }\n",
              "      </script>\n",
              "    </div>\n",
              "  </div>\n",
              "  "
            ]
          },
          "metadata": {},
          "execution_count": 146
        }
      ]
    }
  ],
  "metadata": {
    "colab": {
      "collapsed_sections": [],
      "name": "[투빅스 18기 정규세션] 2주차 Regression_과제 3.ipynb",
      "provenance": [],
      "include_colab_link": true
    },
    "kernelspec": {
      "display_name": "Python 3",
      "language": "python",
      "name": "python3"
    },
    "language_info": {
      "codemirror_mode": {
        "name": "ipython",
        "version": 3
      },
      "file_extension": ".py",
      "mimetype": "text/x-python",
      "name": "python",
      "nbconvert_exporter": "python",
      "pygments_lexer": "ipython3",
      "version": "3.8.5"
    }
  },
  "nbformat": 4,
  "nbformat_minor": 0
}