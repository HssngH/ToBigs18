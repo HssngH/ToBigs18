{
  "cells": [
    {
      "cell_type": "markdown",
      "metadata": {
        "id": "view-in-github",
        "colab_type": "text"
      },
      "source": [
        "<a href=\"https://colab.research.google.com/github/HssngH/ToBigs18/blob/main/week7_nlp_basic_assignment.ipynb\" target=\"_parent\"><img src=\"https://colab.research.google.com/assets/colab-badge.svg\" alt=\"Open In Colab\"/></a>"
      ]
    },
    {
      "cell_type": "markdown",
      "metadata": {
        "id": "UvGjL7RpPqix"
      },
      "source": [
        "# NLP Basic Assignment\n",
        "## NLP 맛보기 - spam.csv를 가지고 유의미한 해석을 도출해주세요!"
      ]
    },
    {
      "cell_type": "code",
      "execution_count": 1,
      "metadata": {
        "id": "aWGgx_ADPqjK"
      },
      "outputs": [],
      "source": [
        "# 필요한 모듈 불러오기\n",
        "import pandas as pd"
      ]
    },
    {
      "cell_type": "markdown",
      "metadata": {
        "id": "-9Du1YQ_PqjN"
      },
      "source": [
        "## Load Data\n",
        "- 보시면 아시다시피 spam.csv는 라벨이 있는 데이터입니다. 물론 7주차 주제가 텍스트 기초인만큼 텍스트만 활용하셔도 되고, 라벨까지 활용하셔서 모델을 돌려보셔도 좋습니다 :)"
      ]
    },
    {
      "cell_type": "code",
      "source": [
        "from google.colab import drive\n",
        "drive.mount(\"/content/drive\")"
      ],
      "metadata": {
        "colab": {
          "base_uri": "https://localhost:8080/"
        },
        "id": "emahJbk9Q_78",
        "outputId": "feaf3d11-b88c-43ff-e1a2-ad70bca3a36c"
      },
      "execution_count": 2,
      "outputs": [
        {
          "output_type": "stream",
          "name": "stdout",
          "text": [
            "Mounted at /content/drive\n"
          ]
        }
      ]
    },
    {
      "cell_type": "code",
      "execution_count": 3,
      "metadata": {
        "id": "HZ6eiDjbPqjP"
      },
      "outputs": [],
      "source": [
        "spam = pd.read_csv('./drive/MyDrive/Colab Notebooks/ToBigs/week7/spam.csv')"
      ]
    },
    {
      "cell_type": "code",
      "execution_count": 4,
      "metadata": {
        "id": "JUJweY1vPqjQ",
        "outputId": "7cc078e5-1655-40f8-ce7d-6321d3837314",
        "colab": {
          "base_uri": "https://localhost:8080/",
          "height": 54
        }
      },
      "outputs": [
        {
          "output_type": "execute_result",
          "data": {
            "text/plain": [
              "\"FreeMsg Hey there darling it's been 3 week's now and no word back! I'd like some fun you up for it still? Tb ok! XxX std chgs to send, å£1.50 to rcv\""
            ],
            "application/vnd.google.colaboratory.intrinsic+json": {
              "type": "string"
            }
          },
          "metadata": {},
          "execution_count": 4
        }
      ],
      "source": [
        "spam.iloc[5]['v2']"
      ]
    },
    {
      "cell_type": "code",
      "execution_count": 6,
      "metadata": {
        "id": "XUad-L68PqjS",
        "colab": {
          "base_uri": "https://localhost:8080/",
          "height": 423
        },
        "outputId": "37857935-9b94-4ee7-ed9c-cdd90feb7794"
      },
      "outputs": [
        {
          "output_type": "execute_result",
          "data": {
            "text/plain": [
              "      index  v1                                                 v2\n",
              "0         0   0  Go until jurong point, crazy.. Available only ...\n",
              "1         1   0                      Ok lar... Joking wif u oni...\n",
              "2         2   1  Free entry in 2 a wkly comp to win FA Cup fina...\n",
              "3         3   0  U dun say so early hor... U c already then say...\n",
              "4         4   0  Nah I don't think he goes to usf, he lives aro...\n",
              "...     ...  ..                                                ...\n",
              "5164   5567   1  This is the 2nd time we have tried 2 contact u...\n",
              "5165   5568   0              Will Ì_ b going to esplanade fr home?\n",
              "5166   5569   0  Pity, * was in mood for that. So...any other s...\n",
              "5167   5570   0  The guy did some bitching but I acted like i'd...\n",
              "5168   5571   0                         Rofl. Its true to its name\n",
              "\n",
              "[5169 rows x 3 columns]"
            ],
            "text/html": [
              "\n",
              "  <div id=\"df-592ed53a-148a-4f4f-81f3-d61e6241c86a\">\n",
              "    <div class=\"colab-df-container\">\n",
              "      <div>\n",
              "<style scoped>\n",
              "    .dataframe tbody tr th:only-of-type {\n",
              "        vertical-align: middle;\n",
              "    }\n",
              "\n",
              "    .dataframe tbody tr th {\n",
              "        vertical-align: top;\n",
              "    }\n",
              "\n",
              "    .dataframe thead th {\n",
              "        text-align: right;\n",
              "    }\n",
              "</style>\n",
              "<table border=\"1\" class=\"dataframe\">\n",
              "  <thead>\n",
              "    <tr style=\"text-align: right;\">\n",
              "      <th></th>\n",
              "      <th>index</th>\n",
              "      <th>v1</th>\n",
              "      <th>v2</th>\n",
              "    </tr>\n",
              "  </thead>\n",
              "  <tbody>\n",
              "    <tr>\n",
              "      <th>0</th>\n",
              "      <td>0</td>\n",
              "      <td>0</td>\n",
              "      <td>Go until jurong point, crazy.. Available only ...</td>\n",
              "    </tr>\n",
              "    <tr>\n",
              "      <th>1</th>\n",
              "      <td>1</td>\n",
              "      <td>0</td>\n",
              "      <td>Ok lar... Joking wif u oni...</td>\n",
              "    </tr>\n",
              "    <tr>\n",
              "      <th>2</th>\n",
              "      <td>2</td>\n",
              "      <td>1</td>\n",
              "      <td>Free entry in 2 a wkly comp to win FA Cup fina...</td>\n",
              "    </tr>\n",
              "    <tr>\n",
              "      <th>3</th>\n",
              "      <td>3</td>\n",
              "      <td>0</td>\n",
              "      <td>U dun say so early hor... U c already then say...</td>\n",
              "    </tr>\n",
              "    <tr>\n",
              "      <th>4</th>\n",
              "      <td>4</td>\n",
              "      <td>0</td>\n",
              "      <td>Nah I don't think he goes to usf, he lives aro...</td>\n",
              "    </tr>\n",
              "    <tr>\n",
              "      <th>...</th>\n",
              "      <td>...</td>\n",
              "      <td>...</td>\n",
              "      <td>...</td>\n",
              "    </tr>\n",
              "    <tr>\n",
              "      <th>5164</th>\n",
              "      <td>5567</td>\n",
              "      <td>1</td>\n",
              "      <td>This is the 2nd time we have tried 2 contact u...</td>\n",
              "    </tr>\n",
              "    <tr>\n",
              "      <th>5165</th>\n",
              "      <td>5568</td>\n",
              "      <td>0</td>\n",
              "      <td>Will Ì_ b going to esplanade fr home?</td>\n",
              "    </tr>\n",
              "    <tr>\n",
              "      <th>5166</th>\n",
              "      <td>5569</td>\n",
              "      <td>0</td>\n",
              "      <td>Pity, * was in mood for that. So...any other s...</td>\n",
              "    </tr>\n",
              "    <tr>\n",
              "      <th>5167</th>\n",
              "      <td>5570</td>\n",
              "      <td>0</td>\n",
              "      <td>The guy did some bitching but I acted like i'd...</td>\n",
              "    </tr>\n",
              "    <tr>\n",
              "      <th>5168</th>\n",
              "      <td>5571</td>\n",
              "      <td>0</td>\n",
              "      <td>Rofl. Its true to its name</td>\n",
              "    </tr>\n",
              "  </tbody>\n",
              "</table>\n",
              "<p>5169 rows × 3 columns</p>\n",
              "</div>\n",
              "      <button class=\"colab-df-convert\" onclick=\"convertToInteractive('df-592ed53a-148a-4f4f-81f3-d61e6241c86a')\"\n",
              "              title=\"Convert this dataframe to an interactive table.\"\n",
              "              style=\"display:none;\">\n",
              "        \n",
              "  <svg xmlns=\"http://www.w3.org/2000/svg\" height=\"24px\"viewBox=\"0 0 24 24\"\n",
              "       width=\"24px\">\n",
              "    <path d=\"M0 0h24v24H0V0z\" fill=\"none\"/>\n",
              "    <path d=\"M18.56 5.44l.94 2.06.94-2.06 2.06-.94-2.06-.94-.94-2.06-.94 2.06-2.06.94zm-11 1L8.5 8.5l.94-2.06 2.06-.94-2.06-.94L8.5 2.5l-.94 2.06-2.06.94zm10 10l.94 2.06.94-2.06 2.06-.94-2.06-.94-.94-2.06-.94 2.06-2.06.94z\"/><path d=\"M17.41 7.96l-1.37-1.37c-.4-.4-.92-.59-1.43-.59-.52 0-1.04.2-1.43.59L10.3 9.45l-7.72 7.72c-.78.78-.78 2.05 0 2.83L4 21.41c.39.39.9.59 1.41.59.51 0 1.02-.2 1.41-.59l7.78-7.78 2.81-2.81c.8-.78.8-2.07 0-2.86zM5.41 20L4 18.59l7.72-7.72 1.47 1.35L5.41 20z\"/>\n",
              "  </svg>\n",
              "      </button>\n",
              "      \n",
              "  <style>\n",
              "    .colab-df-container {\n",
              "      display:flex;\n",
              "      flex-wrap:wrap;\n",
              "      gap: 12px;\n",
              "    }\n",
              "\n",
              "    .colab-df-convert {\n",
              "      background-color: #E8F0FE;\n",
              "      border: none;\n",
              "      border-radius: 50%;\n",
              "      cursor: pointer;\n",
              "      display: none;\n",
              "      fill: #1967D2;\n",
              "      height: 32px;\n",
              "      padding: 0 0 0 0;\n",
              "      width: 32px;\n",
              "    }\n",
              "\n",
              "    .colab-df-convert:hover {\n",
              "      background-color: #E2EBFA;\n",
              "      box-shadow: 0px 1px 2px rgba(60, 64, 67, 0.3), 0px 1px 3px 1px rgba(60, 64, 67, 0.15);\n",
              "      fill: #174EA6;\n",
              "    }\n",
              "\n",
              "    [theme=dark] .colab-df-convert {\n",
              "      background-color: #3B4455;\n",
              "      fill: #D2E3FC;\n",
              "    }\n",
              "\n",
              "    [theme=dark] .colab-df-convert:hover {\n",
              "      background-color: #434B5C;\n",
              "      box-shadow: 0px 1px 3px 1px rgba(0, 0, 0, 0.15);\n",
              "      filter: drop-shadow(0px 1px 2px rgba(0, 0, 0, 0.3));\n",
              "      fill: #FFFFFF;\n",
              "    }\n",
              "  </style>\n",
              "\n",
              "      <script>\n",
              "        const buttonEl =\n",
              "          document.querySelector('#df-592ed53a-148a-4f4f-81f3-d61e6241c86a button.colab-df-convert');\n",
              "        buttonEl.style.display =\n",
              "          google.colab.kernel.accessAllowed ? 'block' : 'none';\n",
              "\n",
              "        async function convertToInteractive(key) {\n",
              "          const element = document.querySelector('#df-592ed53a-148a-4f4f-81f3-d61e6241c86a');\n",
              "          const dataTable =\n",
              "            await google.colab.kernel.invokeFunction('convertToInteractive',\n",
              "                                                     [key], {});\n",
              "          if (!dataTable) return;\n",
              "\n",
              "          const docLinkHtml = 'Like what you see? Visit the ' +\n",
              "            '<a target=\"_blank\" href=https://colab.research.google.com/notebooks/data_table.ipynb>data table notebook</a>'\n",
              "            + ' to learn more about interactive tables.';\n",
              "          element.innerHTML = '';\n",
              "          dataTable['output_type'] = 'display_data';\n",
              "          await google.colab.output.renderOutput(dataTable, element);\n",
              "          const docLink = document.createElement('div');\n",
              "          docLink.innerHTML = docLinkHtml;\n",
              "          element.appendChild(docLink);\n",
              "        }\n",
              "      </script>\n",
              "    </div>\n",
              "  </div>\n",
              "  "
            ]
          },
          "metadata": {},
          "execution_count": 6
        }
      ],
      "source": [
        "spam.v1 = spam.v1.replace(['ham','spam'],[0,1])\n",
        "spam.drop_duplicates(subset=['v2'], inplace=True)\n",
        "spam = spam.reset_index()\n",
        "spam"
      ]
    },
    {
      "cell_type": "code",
      "execution_count": null,
      "metadata": {
        "id": "SbM73g_1PqjS"
      },
      "outputs": [],
      "source": []
    },
    {
      "cell_type": "markdown",
      "metadata": {
        "id": "QSSnWSLLPqjU"
      },
      "source": [
        "## Tokenizing\n"
      ]
    },
    {
      "cell_type": "code",
      "execution_count": 7,
      "metadata": {
        "id": "fLO1KPxuPqjV"
      },
      "outputs": [],
      "source": [
        "import nltk"
      ]
    },
    {
      "cell_type": "code",
      "execution_count": 8,
      "metadata": {
        "id": "57lGw9LdPqjW",
        "colab": {
          "base_uri": "https://localhost:8080/"
        },
        "outputId": "20f6fb47-d78d-4a00-d31d-70867f77def0"
      },
      "outputs": [
        {
          "output_type": "stream",
          "name": "stderr",
          "text": [
            "[nltk_data] Downloading package punkt to /root/nltk_data...\n",
            "[nltk_data]   Unzipping tokenizers/punkt.zip.\n"
          ]
        },
        {
          "output_type": "execute_result",
          "data": {
            "text/plain": [
              "['FreeMsg',\n",
              " 'Hey',\n",
              " 'there',\n",
              " 'darling',\n",
              " 'it',\n",
              " \"'s\",\n",
              " 'been',\n",
              " '3',\n",
              " 'week',\n",
              " \"'s\",\n",
              " 'now',\n",
              " 'and',\n",
              " 'no',\n",
              " 'word',\n",
              " 'back',\n",
              " '!',\n",
              " 'I',\n",
              " \"'d\",\n",
              " 'like',\n",
              " 'some',\n",
              " 'fun',\n",
              " 'you',\n",
              " 'up',\n",
              " 'for',\n",
              " 'it',\n",
              " 'still',\n",
              " '?',\n",
              " 'Tb',\n",
              " 'ok',\n",
              " '!',\n",
              " 'XxX',\n",
              " 'std',\n",
              " 'chgs',\n",
              " 'to',\n",
              " 'send',\n",
              " ',',\n",
              " 'å£1.50',\n",
              " 'to',\n",
              " 'rcv']"
            ]
          },
          "metadata": {},
          "execution_count": 8
        }
      ],
      "source": [
        "# 예시 코드 코드\n",
        "from nltk.tokenize import word_tokenize\n",
        "\n",
        "nltk.download('punkt')\n",
        "word_tokenize(spam.iloc[5]['v2'])"
      ]
    },
    {
      "cell_type": "code",
      "source": [
        "# 영어 불용어 리스트\n",
        "nltk.download('stopwords')\n",
        "from nltk.corpus import stopwords\n",
        "\n",
        "stop_words = set(stopwords.words('english')) \n",
        "print(stop_words)\n",
        "\n",
        "def tokenizing(tokenizer):\n",
        "  result=[]\n",
        "  for row in spam.v2:\n",
        "    tokenize = tokenizer.tokenize(row)\n",
        "    words = [word for word in tokenize if word not in stop_words] # 불용어 제거\n",
        "    result.append(words)\n",
        "  return result"
      ],
      "metadata": {
        "colab": {
          "base_uri": "https://localhost:8080/"
        },
        "id": "or2qwI4n107Y",
        "outputId": "70406eaf-d327-4a8e-8dd9-b6d7b796c587"
      },
      "execution_count": 34,
      "outputs": [
        {
          "output_type": "stream",
          "name": "stdout",
          "text": [
            "{'once', 'those', \"hasn't\", 'hasn', \"couldn't\", \"you've\", 'been', 'ourselves', 'why', 'when', 'ours', 'we', 'again', 'an', 'in', 'here', 'where', \"isn't\", 'too', \"doesn't\", 'needn', 'my', 'under', 'while', 'who', 't', 'won', 'these', 'as', 'didn', \"wouldn't\", 'ma', 'during', \"needn't\", 'hadn', 'aren', 'own', 'doing', \"hadn't\", 'shouldn', 'have', 'few', 'they', 'weren', 'wouldn', 'further', 'isn', 'with', 'are', 'after', 'about', 'that', 'mustn', 'most', 'having', \"aren't\", 'to', 'out', 'such', 'off', 'what', 'being', 'very', 'against', \"you'll\", \"wasn't\", 'our', \"shouldn't\", 'over', 's', \"haven't\", 'your', 'more', 'can', 'theirs', 'ain', 'had', 'o', 'same', 'he', \"you'd\", 'below', 'does', 'than', 'only', 'their', 'mightn', 'is', 'from', 'there', 'hers', 'be', \"won't\", 'then', 'were', 'd', \"don't\", 'its', 'now', 'other', \"weren't\", 'couldn', 'above', 'nor', 'no', 'all', 'until', 'his', 'a', 'for', \"mightn't\", \"shan't\", 'll', 'whom', 'don', 'shan', \"you're\", 'doesn', 'both', 'itself', 'them', 'herself', \"that'll\", 'has', 'some', 'of', 'yourself', 'at', 'should', 'am', \"mustn't\", 'wasn', 'do', 'yours', 'her', 'she', \"should've\", 'myself', 'if', 'between', \"it's\", 'm', 'this', 're', 'by', 'you', 'the', 'will', 'yourselves', 'did', 'i', 'and', 'into', 'haven', 'because', 'not', 'before', 'just', 'but', 'through', \"she's\", 'on', 've', 'up', 'it', \"didn't\", 'each', 'any', 'himself', 'which', 'or', 'me', 'down', 'how', 'so', 'themselves', 'was', 'y', 'him'}\n"
          ]
        },
        {
          "output_type": "stream",
          "name": "stderr",
          "text": [
            "[nltk_data] Downloading package stopwords to /root/nltk_data...\n",
            "[nltk_data]   Unzipping corpora/stopwords.zip.\n"
          ]
        }
      ]
    },
    {
      "cell_type": "code",
      "execution_count": 35,
      "metadata": {
        "id": "I3YkZNP9PqjX",
        "colab": {
          "base_uri": "https://localhost:8080/"
        },
        "outputId": "cebb95cd-02e4-4beb-9350-bbb3f4f8e546"
      },
      "outputs": [
        {
          "output_type": "stream",
          "name": "stdout",
          "text": [
            "      index  v1                                                 v2\n",
            "0         0   0  [Go, jurong, point, ,, crazy, .., Available, b...\n",
            "1         1   0           [Ok, lar, ..., Joking, wif, u, oni, ...]\n",
            "2         2   1  [Free, entry, 2, wkly, comp, win, FA, Cup, fin...\n",
            "3         3   0  [U, dun, say, early, hor, ..., U, c, already, ...\n",
            "4         4   0  [Nah, I, ', think, goes, usf, ,, lives, around...\n",
            "...     ...  ..                                                ...\n",
            "5164   5567   1  [This, 2nd, time, tried, 2, contact, u, ., U, ...\n",
            "5165   5568   0       [Will, Ì_, b, going, esplanade, fr, home, ?]\n",
            "5166   5569   0     [Pity, ,, *, mood, ., So, ..., suggestions, ?]\n",
            "5167   5570   0  [The, guy, bitching, I, acted, like, ', intere...\n",
            "5168   5571   0                         [Rofl, ., Its, true, name]\n",
            "\n",
            "[5169 rows x 3 columns]\n"
          ]
        }
      ],
      "source": [
        "from nltk.tokenize import WordPunctTokenizer\n",
        "\n",
        "wp_test = spam.copy()\n",
        "wp_test.v2 = tokenizing(WordPunctTokenizer())\n",
        "print(wp_test)"
      ]
    },
    {
      "cell_type": "code",
      "execution_count": null,
      "metadata": {
        "id": "qoK4tX9mPqjX"
      },
      "outputs": [],
      "source": []
    },
    {
      "cell_type": "markdown",
      "metadata": {
        "id": "ufDA-uFLPqjY"
      },
      "source": [
        "## Embedding\n",
        "\n",
        "- 수업에서 다룬 임베딩 방법에는 One-hot encoding, CBOW, Skip-gram, GloVe, FastText가 있었습니다. 다양한 시도와 '비교' 결과를 함께 적어주세요! 파라미터를 조정해가는 과정도 해석에 도움이 될 수 있겠죠 :)"
      ]
    },
    {
      "cell_type": "code",
      "execution_count": 36,
      "metadata": {
        "id": "GZiaob2VPqjZ",
        "colab": {
          "base_uri": "https://localhost:8080/",
          "height": 228
        },
        "outputId": "e6cbe2c7-1bb9-4a08-969b-0548204c64ce"
      },
      "outputs": [
        {
          "output_type": "error",
          "ename": "NameError",
          "evalue": "ignored",
          "traceback": [
            "\u001b[0;31m---------------------------------------------------------------------------\u001b[0m",
            "\u001b[0;31mNameError\u001b[0m                                 Traceback (most recent call last)",
            "\u001b[0;32m<ipython-input-36-7d3b5cb5d392>\u001b[0m in \u001b[0;36m<module>\u001b[0;34m\u001b[0m\n\u001b[1;32m      3\u001b[0m \u001b[0;31m# 정상 메일 토큰 빈도수\u001b[0m\u001b[0;34m\u001b[0m\u001b[0;34m\u001b[0m\u001b[0;34m\u001b[0m\u001b[0m\n\u001b[1;32m      4\u001b[0m \u001b[0mct_vector1\u001b[0m \u001b[0;34m=\u001b[0m \u001b[0mCountVectorizer\u001b[0m\u001b[0;34m(\u001b[0m\u001b[0mmax_features\u001b[0m\u001b[0;34m=\u001b[0m \u001b[0;36m500\u001b[0m\u001b[0;34m,\u001b[0m \u001b[0mstop_words\u001b[0m \u001b[0;34m=\u001b[0m \u001b[0;34m'english'\u001b[0m\u001b[0;34m,\u001b[0m \u001b[0mlowercase\u001b[0m\u001b[0;34m=\u001b[0m \u001b[0;32mFalse\u001b[0m\u001b[0;34m)\u001b[0m\u001b[0;34m\u001b[0m\u001b[0;34m\u001b[0m\u001b[0m\n\u001b[0;32m----> 5\u001b[0;31m \u001b[0mcorpus_ham\u001b[0m \u001b[0;34m=\u001b[0m \u001b[0msum\u001b[0m\u001b[0;34m(\u001b[0m\u001b[0mmt_test\u001b[0m\u001b[0;34m[\u001b[0m\u001b[0mmt_test\u001b[0m\u001b[0;34m.\u001b[0m\u001b[0mv1\u001b[0m \u001b[0;34m==\u001b[0m \u001b[0;36m0\u001b[0m\u001b[0;34m]\u001b[0m\u001b[0;34m[\u001b[0m\u001b[0;34m'v2'\u001b[0m\u001b[0;34m]\u001b[0m\u001b[0;34m,\u001b[0m \u001b[0;34m[\u001b[0m\u001b[0;34m]\u001b[0m\u001b[0;34m)\u001b[0m\u001b[0;34m\u001b[0m\u001b[0;34m\u001b[0m\u001b[0m\n\u001b[0m\u001b[1;32m      6\u001b[0m \u001b[0mct_ham\u001b[0m \u001b[0;34m=\u001b[0m \u001b[0mct_vector1\u001b[0m\u001b[0;34m.\u001b[0m\u001b[0mfit_transform\u001b[0m\u001b[0;34m(\u001b[0m\u001b[0mcorpus_ham\u001b[0m\u001b[0;34m)\u001b[0m\u001b[0;34m\u001b[0m\u001b[0;34m\u001b[0m\u001b[0m\n",
            "\u001b[0;31mNameError\u001b[0m: name 'mt_test' is not defined"
          ]
        }
      ],
      "source": [
        "from sklearn.feature_extraction.text import CountVectorizer\n",
        "\n",
        "# 정상 메일 토큰 빈도수\n",
        "ct_vector1 = CountVectorizer(max_features= 500, stop_words = 'english', lowercase= False)\n",
        "corpus_ham = sum(mt_test[mt_test.v1 == 0]['v2'], []) \n",
        "ct_ham = ct_vector1.fit_transform(corpus_ham)"
      ]
    },
    {
      "cell_type": "code",
      "execution_count": null,
      "metadata": {
        "id": "8JvHO93vPqjZ"
      },
      "outputs": [],
      "source": []
    },
    {
      "cell_type": "markdown",
      "metadata": {
        "id": "0lfVXWiuPqja"
      },
      "source": [
        "## 본인이 도출해낸 해석을 적어주세요!\n",
        "\n",
        "- 유사도, Wordcloud, 이진 분류 모델, Plot 뭐든 상관없으니 분명하고 인상적인 해석을 적어주시면 됩니다."
      ]
    },
    {
      "cell_type": "code",
      "execution_count": null,
      "metadata": {
        "id": "8vW4hiotPqjb"
      },
      "outputs": [],
      "source": []
    },
    {
      "cell_type": "code",
      "execution_count": null,
      "metadata": {
        "id": "ejOF5eBSPqjc"
      },
      "outputs": [],
      "source": []
    }
  ],
  "metadata": {
    "kernelspec": {
      "display_name": "Python 3 (ipykernel)",
      "language": "python",
      "name": "python3"
    },
    "language_info": {
      "codemirror_mode": {
        "name": "ipython",
        "version": 3
      },
      "file_extension": ".py",
      "mimetype": "text/x-python",
      "name": "python",
      "nbconvert_exporter": "python",
      "pygments_lexer": "ipython3",
      "version": "3.9.12"
    },
    "colab": {
      "provenance": [],
      "include_colab_link": true
    }
  },
  "nbformat": 4,
  "nbformat_minor": 0
}