{
  "cells": [
    {
      "cell_type": "markdown",
      "metadata": {
        "id": "view-in-github",
        "colab_type": "text"
      },
      "source": [
        "<a href=\"https://colab.research.google.com/github/HssngH/ToBigs18/blob/main/week4_dimensionality_reduction_assignment1.ipynb\" target=\"_parent\"><img src=\"https://colab.research.google.com/assets/colab-badge.svg\" alt=\"Open In Colab\"/></a>"
      ]
    },
    {
      "cell_type": "markdown",
      "metadata": {
        "id": "zU92BX-5Pgsm"
      },
      "source": [
        "# 차원축소 Assignment1"
      ]
    },
    {
      "cell_type": "markdown",
      "metadata": {
        "id": "b15X2e8HPgsn"
      },
      "source": [
        "# ''' ? ''' 이 있는 부분을 채워주세요 \n",
        "\n",
        "참고하셔야 하는 함수들은 링크 달아드렸으니 들어가서 확인해보세요\n",
        "\n",
        "무작정 빈칸 채우기가 아니라 꼭 차원축소 과정을 이해하시면서 과제를 진행하시면 좋겠습니다!!!\n",
        "\n",
        "또 질문은 언제나 환영이니 과제하다가 궁금하신것 있으시면 자유롭게 물어보세요!!"
      ]
    },
    {
      "cell_type": "markdown",
      "metadata": {
        "id": "VHM2ow0gPgsn"
      },
      "source": [
        "# 1) PCA의 과정 차근차근 밟아보기"
      ]
    },
    {
      "cell_type": "code",
      "execution_count": 1,
      "metadata": {
        "id": "tpoi2PmKPgsn"
      },
      "outputs": [],
      "source": [
        "#기본 모듈 불러오기\n",
        "import numpy as np\n",
        "import numpy.linalg as lin\n",
        "import matplotlib.pyplot as plt\n",
        "import pandas as pd\n",
        "import random"
      ]
    },
    {
      "cell_type": "code",
      "execution_count": 2,
      "metadata": {
        "id": "ZcFtAQxoPgsn"
      },
      "outputs": [],
      "source": [
        "#설명변수 x1, x2, x3\n",
        "x1 = [95, 91, 66, 94, 68, 63, 12, 73, 93, 51, 13, 70, 63, 63, 97, 56, 67, 96, 75, 6]\n",
        "x2 = [56, 27, 25, 1, 9, 80, 92, 69, 6, 25, 83, 82, 54, 97, 66, 93, 76, 59, 94, 9]\n",
        "x3 = [57, 34, 9, 79, 4, 77, 100, 42, 6, 96, 61, 66, 9, 25, 84, 46, 16, 63, 53, 30]"
      ]
    },
    {
      "cell_type": "code",
      "execution_count": 3,
      "metadata": {
        "id": "QB3ElSfuPgso"
      },
      "outputs": [],
      "source": [
        "#   설명변수들을 하나의 행렬로\n",
        "X = np.stack((x1,x2,x3),axis=0)"
      ]
    },
    {
      "cell_type": "code",
      "execution_count": 4,
      "metadata": {
        "id": "WRc6gLv2Pgso"
      },
      "outputs": [],
      "source": [
        "X = pd.DataFrame(X.T,columns=['x1','x2','x3'])"
      ]
    },
    {
      "cell_type": "code",
      "execution_count": 5,
      "metadata": {
        "colab": {
          "base_uri": "https://localhost:8080/",
          "height": 676
        },
        "id": "6YYdgIxXPgso",
        "outputId": "93aa3c7b-0207-4b3c-cf52-43fd773144a2"
      },
      "outputs": [
        {
          "output_type": "execute_result",
          "data": {
            "text/plain": [
              "    x1  x2   x3\n",
              "0   95  56   57\n",
              "1   91  27   34\n",
              "2   66  25    9\n",
              "3   94   1   79\n",
              "4   68   9    4\n",
              "5   63  80   77\n",
              "6   12  92  100\n",
              "7   73  69   42\n",
              "8   93   6    6\n",
              "9   51  25   96\n",
              "10  13  83   61\n",
              "11  70  82   66\n",
              "12  63  54    9\n",
              "13  63  97   25\n",
              "14  97  66   84\n",
              "15  56  93   46\n",
              "16  67  76   16\n",
              "17  96  59   63\n",
              "18  75  94   53\n",
              "19   6   9   30"
            ],
            "text/html": [
              "\n",
              "  <div id=\"df-ed672b69-2742-427d-8eec-ba031dd3f19b\">\n",
              "    <div class=\"colab-df-container\">\n",
              "      <div>\n",
              "<style scoped>\n",
              "    .dataframe tbody tr th:only-of-type {\n",
              "        vertical-align: middle;\n",
              "    }\n",
              "\n",
              "    .dataframe tbody tr th {\n",
              "        vertical-align: top;\n",
              "    }\n",
              "\n",
              "    .dataframe thead th {\n",
              "        text-align: right;\n",
              "    }\n",
              "</style>\n",
              "<table border=\"1\" class=\"dataframe\">\n",
              "  <thead>\n",
              "    <tr style=\"text-align: right;\">\n",
              "      <th></th>\n",
              "      <th>x1</th>\n",
              "      <th>x2</th>\n",
              "      <th>x3</th>\n",
              "    </tr>\n",
              "  </thead>\n",
              "  <tbody>\n",
              "    <tr>\n",
              "      <th>0</th>\n",
              "      <td>95</td>\n",
              "      <td>56</td>\n",
              "      <td>57</td>\n",
              "    </tr>\n",
              "    <tr>\n",
              "      <th>1</th>\n",
              "      <td>91</td>\n",
              "      <td>27</td>\n",
              "      <td>34</td>\n",
              "    </tr>\n",
              "    <tr>\n",
              "      <th>2</th>\n",
              "      <td>66</td>\n",
              "      <td>25</td>\n",
              "      <td>9</td>\n",
              "    </tr>\n",
              "    <tr>\n",
              "      <th>3</th>\n",
              "      <td>94</td>\n",
              "      <td>1</td>\n",
              "      <td>79</td>\n",
              "    </tr>\n",
              "    <tr>\n",
              "      <th>4</th>\n",
              "      <td>68</td>\n",
              "      <td>9</td>\n",
              "      <td>4</td>\n",
              "    </tr>\n",
              "    <tr>\n",
              "      <th>5</th>\n",
              "      <td>63</td>\n",
              "      <td>80</td>\n",
              "      <td>77</td>\n",
              "    </tr>\n",
              "    <tr>\n",
              "      <th>6</th>\n",
              "      <td>12</td>\n",
              "      <td>92</td>\n",
              "      <td>100</td>\n",
              "    </tr>\n",
              "    <tr>\n",
              "      <th>7</th>\n",
              "      <td>73</td>\n",
              "      <td>69</td>\n",
              "      <td>42</td>\n",
              "    </tr>\n",
              "    <tr>\n",
              "      <th>8</th>\n",
              "      <td>93</td>\n",
              "      <td>6</td>\n",
              "      <td>6</td>\n",
              "    </tr>\n",
              "    <tr>\n",
              "      <th>9</th>\n",
              "      <td>51</td>\n",
              "      <td>25</td>\n",
              "      <td>96</td>\n",
              "    </tr>\n",
              "    <tr>\n",
              "      <th>10</th>\n",
              "      <td>13</td>\n",
              "      <td>83</td>\n",
              "      <td>61</td>\n",
              "    </tr>\n",
              "    <tr>\n",
              "      <th>11</th>\n",
              "      <td>70</td>\n",
              "      <td>82</td>\n",
              "      <td>66</td>\n",
              "    </tr>\n",
              "    <tr>\n",
              "      <th>12</th>\n",
              "      <td>63</td>\n",
              "      <td>54</td>\n",
              "      <td>9</td>\n",
              "    </tr>\n",
              "    <tr>\n",
              "      <th>13</th>\n",
              "      <td>63</td>\n",
              "      <td>97</td>\n",
              "      <td>25</td>\n",
              "    </tr>\n",
              "    <tr>\n",
              "      <th>14</th>\n",
              "      <td>97</td>\n",
              "      <td>66</td>\n",
              "      <td>84</td>\n",
              "    </tr>\n",
              "    <tr>\n",
              "      <th>15</th>\n",
              "      <td>56</td>\n",
              "      <td>93</td>\n",
              "      <td>46</td>\n",
              "    </tr>\n",
              "    <tr>\n",
              "      <th>16</th>\n",
              "      <td>67</td>\n",
              "      <td>76</td>\n",
              "      <td>16</td>\n",
              "    </tr>\n",
              "    <tr>\n",
              "      <th>17</th>\n",
              "      <td>96</td>\n",
              "      <td>59</td>\n",
              "      <td>63</td>\n",
              "    </tr>\n",
              "    <tr>\n",
              "      <th>18</th>\n",
              "      <td>75</td>\n",
              "      <td>94</td>\n",
              "      <td>53</td>\n",
              "    </tr>\n",
              "    <tr>\n",
              "      <th>19</th>\n",
              "      <td>6</td>\n",
              "      <td>9</td>\n",
              "      <td>30</td>\n",
              "    </tr>\n",
              "  </tbody>\n",
              "</table>\n",
              "</div>\n",
              "      <button class=\"colab-df-convert\" onclick=\"convertToInteractive('df-ed672b69-2742-427d-8eec-ba031dd3f19b')\"\n",
              "              title=\"Convert this dataframe to an interactive table.\"\n",
              "              style=\"display:none;\">\n",
              "        \n",
              "  <svg xmlns=\"http://www.w3.org/2000/svg\" height=\"24px\"viewBox=\"0 0 24 24\"\n",
              "       width=\"24px\">\n",
              "    <path d=\"M0 0h24v24H0V0z\" fill=\"none\"/>\n",
              "    <path d=\"M18.56 5.44l.94 2.06.94-2.06 2.06-.94-2.06-.94-.94-2.06-.94 2.06-2.06.94zm-11 1L8.5 8.5l.94-2.06 2.06-.94-2.06-.94L8.5 2.5l-.94 2.06-2.06.94zm10 10l.94 2.06.94-2.06 2.06-.94-2.06-.94-.94-2.06-.94 2.06-2.06.94z\"/><path d=\"M17.41 7.96l-1.37-1.37c-.4-.4-.92-.59-1.43-.59-.52 0-1.04.2-1.43.59L10.3 9.45l-7.72 7.72c-.78.78-.78 2.05 0 2.83L4 21.41c.39.39.9.59 1.41.59.51 0 1.02-.2 1.41-.59l7.78-7.78 2.81-2.81c.8-.78.8-2.07 0-2.86zM5.41 20L4 18.59l7.72-7.72 1.47 1.35L5.41 20z\"/>\n",
              "  </svg>\n",
              "      </button>\n",
              "      \n",
              "  <style>\n",
              "    .colab-df-container {\n",
              "      display:flex;\n",
              "      flex-wrap:wrap;\n",
              "      gap: 12px;\n",
              "    }\n",
              "\n",
              "    .colab-df-convert {\n",
              "      background-color: #E8F0FE;\n",
              "      border: none;\n",
              "      border-radius: 50%;\n",
              "      cursor: pointer;\n",
              "      display: none;\n",
              "      fill: #1967D2;\n",
              "      height: 32px;\n",
              "      padding: 0 0 0 0;\n",
              "      width: 32px;\n",
              "    }\n",
              "\n",
              "    .colab-df-convert:hover {\n",
              "      background-color: #E2EBFA;\n",
              "      box-shadow: 0px 1px 2px rgba(60, 64, 67, 0.3), 0px 1px 3px 1px rgba(60, 64, 67, 0.15);\n",
              "      fill: #174EA6;\n",
              "    }\n",
              "\n",
              "    [theme=dark] .colab-df-convert {\n",
              "      background-color: #3B4455;\n",
              "      fill: #D2E3FC;\n",
              "    }\n",
              "\n",
              "    [theme=dark] .colab-df-convert:hover {\n",
              "      background-color: #434B5C;\n",
              "      box-shadow: 0px 1px 3px 1px rgba(0, 0, 0, 0.15);\n",
              "      filter: drop-shadow(0px 1px 2px rgba(0, 0, 0, 0.3));\n",
              "      fill: #FFFFFF;\n",
              "    }\n",
              "  </style>\n",
              "\n",
              "      <script>\n",
              "        const buttonEl =\n",
              "          document.querySelector('#df-ed672b69-2742-427d-8eec-ba031dd3f19b button.colab-df-convert');\n",
              "        buttonEl.style.display =\n",
              "          google.colab.kernel.accessAllowed ? 'block' : 'none';\n",
              "\n",
              "        async function convertToInteractive(key) {\n",
              "          const element = document.querySelector('#df-ed672b69-2742-427d-8eec-ba031dd3f19b');\n",
              "          const dataTable =\n",
              "            await google.colab.kernel.invokeFunction('convertToInteractive',\n",
              "                                                     [key], {});\n",
              "          if (!dataTable) return;\n",
              "\n",
              "          const docLinkHtml = 'Like what you see? Visit the ' +\n",
              "            '<a target=\"_blank\" href=https://colab.research.google.com/notebooks/data_table.ipynb>data table notebook</a>'\n",
              "            + ' to learn more about interactive tables.';\n",
              "          element.innerHTML = '';\n",
              "          dataTable['output_type'] = 'display_data';\n",
              "          await google.colab.output.renderOutput(dataTable, element);\n",
              "          const docLink = document.createElement('div');\n",
              "          docLink.innerHTML = docLinkHtml;\n",
              "          element.appendChild(docLink);\n",
              "        }\n",
              "      </script>\n",
              "    </div>\n",
              "  </div>\n",
              "  "
            ]
          },
          "metadata": {},
          "execution_count": 5
        }
      ],
      "source": [
        "X"
      ]
    },
    {
      "cell_type": "markdown",
      "metadata": {
        "id": "NTRZsZjkPgso"
      },
      "source": [
        "### 1-1) 먼저 PCA를 시작하기 전 데이터 scaling!!!! 매우 중요합니다!\n",
        "\n",
        "https://datascienceschool.net/03%20machine%20learning/02.01%20%EB%8D%B0%EC%9D%B4%ED%84%B0%20%EC%A0%84%EC%B2%98%EB%A6%AC%20%EA%B8%B0%EC%B4%88.html?highlight=%EC%A0%84%EC%B2%98%EB%A6%AC  를 참고하시면 도움이 될거에요"
      ]
    },
    {
      "cell_type": "code",
      "execution_count": 8,
      "metadata": {
        "id": "urxrwxdJvBre"
      },
      "outputs": [],
      "source": [
        "#scaling\n",
        "from sklearn.preprocessing import StandardScaler\n",
        "scaler = StandardScaler()\n",
        "X_std = scaler.fit_transform(X)"
      ]
    },
    {
      "cell_type": "code",
      "execution_count": 9,
      "metadata": {
        "id": "TjuIDQNMPgsp"
      },
      "outputs": [],
      "source": [
        "features = X_std.T"
      ]
    },
    {
      "cell_type": "code",
      "execution_count": 10,
      "metadata": {
        "colab": {
          "base_uri": "https://localhost:8080/"
        },
        "id": "9Z5Hpvl3vnfp",
        "outputId": "21d8a218-538b-4c67-e2ab-673222e24a24"
      },
      "outputs": [
        {
          "output_type": "execute_result",
          "data": {
            "text/plain": [
              "array([[ 1.08573604,  0.93801686,  0.01477192,  1.04880625,  0.08863151,\n",
              "        -0.09601747, -1.97943714,  0.2732805 ,  1.01187645, -0.53917504,\n",
              "        -1.94250735,  0.16249111, -0.09601747, -0.09601747,  1.15959564,\n",
              "        -0.35452606,  0.05170172,  1.12266584,  0.3471401 , -2.20101593],\n",
              "       [ 0.02614175, -0.86575334, -0.92726334, -1.66538341, -1.41934339,\n",
              "         0.76426183,  1.13332186,  0.42595679, -1.5116084 , -0.92726334,\n",
              "         0.85652683,  0.82577183, -0.03536825,  1.28709688,  0.33369178,\n",
              "         1.16407687,  0.64124181,  0.11840676,  1.19483187, -1.41934339],\n",
              "       [ 0.30684189, -0.46445467, -1.30282049,  1.04460382, -1.47049366,\n",
              "         0.97753455,  1.74883111, -0.1961776 , -1.40342439,  1.61469258,\n",
              "         0.44098042,  0.60865359, -1.30282049, -0.76626636,  1.21227698,\n",
              "        -0.06203907, -1.06807806,  0.50804969,  0.17270336, -0.5985932 ]])"
            ]
          },
          "metadata": {},
          "execution_count": 10
        }
      ],
      "source": [
        "features"
      ]
    },
    {
      "cell_type": "markdown",
      "metadata": {
        "id": "3HHTB65iPgsp"
      },
      "source": [
        "### 1-2) 다음으로 공분산 행렬을 구합니다\n",
        "\n",
        "https://docs.scipy.org/doc/numpy/reference/generated/numpy.cov.html 를 참고하시면 도움이 될거에요"
      ]
    },
    {
      "cell_type": "code",
      "execution_count": 11,
      "metadata": {
        "id": "lZ2KT6M3Pgsq",
        "scrolled": true
      },
      "outputs": [],
      "source": [
        "cov = np.cov(features)"
      ]
    },
    {
      "cell_type": "markdown",
      "metadata": {
        "id": "LDPacia_Pgsq"
      },
      "source": [
        "### 1-3) 이제 고유값과 고유벡터를 구합니다\n",
        "\n",
        "실습코드를 참고해주세요"
      ]
    },
    {
      "cell_type": "code",
      "execution_count": 14,
      "metadata": {
        "id": "u850XjOtv3b9"
      },
      "outputs": [],
      "source": [
        "import numpy.linalg as lin\n",
        "\n",
        "# 고유값\n",
        "values = lin.eig(cov)[0] \n",
        "# 고유벡터\n",
        "vectors = lin.eig(cov)[1]  \n",
        "\n",
        "# 0행렬\n",
        "zero = np.zeros((3,3))\n",
        "\n",
        "# 행렬 합쳐주기\n",
        "zero[0][0] = values[0]\n",
        "zero[1][1] = values[1]\n",
        "zero[2][2] = values[2]"
      ]
    },
    {
      "cell_type": "code",
      "source": [
        "zero"
      ],
      "metadata": {
        "colab": {
          "base_uri": "https://localhost:8080/"
        },
        "id": "oQ8lY3UCW83r",
        "outputId": "4ac5398f-237b-4296-d782-d00799a1ed71"
      },
      "execution_count": 15,
      "outputs": [
        {
          "output_type": "execute_result",
          "data": {
            "text/plain": [
              "array([[1.48756162, 0.        , 0.        ],\n",
              "       [0.        , 0.94435407, 0.        ],\n",
              "       [0.        , 0.        , 0.72597904]])"
            ]
          },
          "metadata": {},
          "execution_count": 15
        }
      ]
    },
    {
      "cell_type": "markdown",
      "metadata": {
        "id": "--C9kkKDPgsr"
      },
      "source": [
        "### 1-4) 고유값 분해: 고유값 분해의 곱으로 원래 공분산 행렬을 구해봅니다\n",
        "\n",
        "https://docs.scipy.org/doc/numpy/reference/generated/numpy.dot.html 를 참고해주세요\n",
        "\n",
        "A = 𝑃Λ𝑃`\n",
        "이 식 기억나죠?"
      ]
    },
    {
      "cell_type": "code",
      "execution_count": 16,
      "metadata": {
        "id": "8lWge3vHwOAk",
        "colab": {
          "base_uri": "https://localhost:8080/"
        },
        "outputId": "a1013ed2-330e-4656-bcb1-9034b1facb9a"
      },
      "outputs": [
        {
          "output_type": "execute_result",
          "data": {
            "text/plain": [
              "array([[ 1.05263158, -0.2037104 , -0.12079228],\n",
              "       [-0.2037104 ,  1.05263158,  0.3125801 ],\n",
              "       [-0.12079228,  0.3125801 ,  1.05263158]])"
            ]
          },
          "metadata": {},
          "execution_count": 16
        }
      ],
      "source": [
        "lin.multi_dot([vectors, zero, vectors.T])"
      ]
    },
    {
      "cell_type": "markdown",
      "metadata": {
        "id": "N4t2RjoNPgss"
      },
      "source": [
        "### 1-5) 마지막으로 고유 벡터 축으로 값을 변환합니다\n",
        "\n",
        "\n",
        "https://docs.scipy.org/doc/numpy/reference/generated/numpy.concatenate.html"
      ]
    },
    {
      "cell_type": "code",
      "execution_count": 27,
      "metadata": {
        "id": "HkhBLg0jPgss"
      },
      "outputs": [],
      "source": [
        "def new_coordinates(X,vectors):\n",
        "    for i in range(0, vectors.shape[0]):\n",
        "        if i == 0:\n",
        "            a = [X.dot(vectors.T[i])]\n",
        "        else:\n",
        "            a = np.concatenate((a, [X.dot(vectors.T[i])]), axis = 0)\n",
        "    return a.T"
      ]
    },
    {
      "cell_type": "code",
      "source": [
        "new_coordinates(X_std, vectors)"
      ],
      "metadata": {
        "colab": {
          "base_uri": "https://localhost:8080/"
        },
        "id": "oquBXkqfXgOz",
        "outputId": "851d3791-951f-46b6-b18e-9e4f87c760d9"
      },
      "execution_count": 28,
      "outputs": [
        {
          "output_type": "execute_result",
          "data": {
            "text/plain": [
              "array([[ 0.31019368, -1.08215716, -0.07983642],\n",
              "       [ 1.28092404, -0.43132556,  0.13533091],\n",
              "       [ 1.38766381,  0.78428014, -0.12911446],\n",
              "       [ 0.95087515, -1.15737142,  1.6495519 ],\n",
              "       [ 1.84222365,  0.88189889,  0.11493111],\n",
              "       [-1.12563709, -0.52680338,  0.06564012],\n",
              "       [-2.71174416,  0.63290138,  0.71195473],\n",
              "       [-0.03100441, -0.20059783, -0.50339479],\n",
              "       [ 2.29618509,  0.07661447,  0.01087174],\n",
              "       [-0.61585248, -0.205764  ,  1.82651199],\n",
              "       [-1.73320252,  1.29971699,  0.09045178],\n",
              "       [-0.82366049, -0.57164535, -0.27123176],\n",
              "       [ 0.75619512,  0.73995175, -0.76710616],\n",
              "       [-0.42344386,  0.26555394, -1.41533681],\n",
              "       [-0.39581307, -1.64646874,  0.24104031],\n",
              "       [-0.88581498,  0.15195119, -0.82271209],\n",
              "       [ 0.24587691,  0.39139878, -1.15801831],\n",
              "       [ 0.14741103, -1.22874561, -0.03110396],\n",
              "       [-0.7161265 , -0.56781471, -0.86180345],\n",
              "       [ 0.24475107,  2.39442622,  1.19337361]])"
            ]
          },
          "metadata": {},
          "execution_count": 28
        }
      ]
    },
    {
      "cell_type": "markdown",
      "metadata": {
        "id": "B7c1o5URPgst"
      },
      "source": [
        "# 2) PCA를 구현해보기\n",
        "\n",
        "위의 과정을 하나의 함수로 표현해주세요!\n",
        "\n",
        "1)에서 진행한 과정을 그대로 가져오면 됩니다..! , \n",
        "\n",
        "위에서 만든 함수(new_coordinate)도 가져오셔서 사용해도 좋아요!\n",
        "\n",
        "+하지만 이 함수는 number이라는 인자를 받아서 pca에서 주성분 개수를 고려하도록 합니다!\n",
        "\n",
        "고유값이 큰 축 순서로 정렬하는 과정 + 주성분 개수 number을 고려해야한다는 점을 유의해서 함수를 정의해주세요\n"
      ]
    },
    {
      "cell_type": "code",
      "execution_count": 29,
      "metadata": {
        "colab": {
          "base_uri": "https://localhost:8080/"
        },
        "id": "P_cF1LnX6eBh",
        "outputId": "b5ad8cac-428f-41c0-b7b6-0f1776312c30"
      },
      "outputs": [
        {
          "output_type": "execute_result",
          "data": {
            "text/plain": [
              "array([[ 0.47018528, -0.85137353, -0.23257022],\n",
              "       [-0.64960236, -0.15545725, -0.74421087],\n",
              "       [-0.59744671, -0.50099516,  0.62614797]])"
            ]
          },
          "metadata": {},
          "execution_count": 29
        }
      ],
      "source": [
        "vectors"
      ]
    },
    {
      "cell_type": "code",
      "execution_count": 39,
      "metadata": {
        "id": "5qOrSvvZPgst"
      },
      "outputs": [],
      "source": [
        "from sklearn.preprocessing import StandardScaler\n",
        "\n",
        "def MYPCA(X, number):\n",
        "    \n",
        "    # Scaling\n",
        "    from sklearn.preprocessing import StandardScaler\n",
        "    scaler = StandardScaler()\n",
        "    X_std = scaler.fit_transform(X)    \n",
        "    features = X_std.T     \n",
        "    \n",
        "    # Covariance\n",
        "    cov_matrix = np.cov(features)\n",
        "    \n",
        "    # eigenvalues , eigenvectors\n",
        "    eigenvalues = lin.eig(cov_matrix)[0]\n",
        "    eigenvectors = lin.eig(cov_matrix)[1]\n",
        "    \n",
        "    df = pd.DataFrame(new_coordinates(X_std, eigenvectors))   \n",
        "\n",
        "    eigenvalues_sorted = sorted(eigenvalues)   \n",
        "    eigenvalues_sorted.reverse() \n",
        "    index_list = []     \n",
        "\n",
        "    for i in range(number):\n",
        "        value = eigenvalues_sorted[i]\n",
        "        index_list.append(index_list(eigenvalues).index_list(value))\n",
        "    \n",
        "    result = np.array(df[index_list])   \n",
        "    \n",
        "    return result     # 새로운 축으로 변환되어 나타난 데이터 return"
      ]
    },
    {
      "cell_type": "code",
      "execution_count": 31,
      "metadata": {
        "id": "XAtXIzPHPgst",
        "outputId": "2f129561-df62-42c0-f74d-49c9c4c54bf8",
        "scrolled": true,
        "colab": {
          "base_uri": "https://localhost:8080/"
        }
      },
      "outputs": [
        {
          "output_type": "execute_result",
          "data": {
            "text/plain": [
              "array([[ 0.31019368, -1.08215716, -0.07983642],\n",
              "       [ 1.28092404, -0.43132556,  0.13533091],\n",
              "       [ 1.38766381,  0.78428014, -0.12911446],\n",
              "       [ 0.95087515, -1.15737142,  1.6495519 ],\n",
              "       [ 1.84222365,  0.88189889,  0.11493111],\n",
              "       [-1.12563709, -0.52680338,  0.06564012],\n",
              "       [-2.71174416,  0.63290138,  0.71195473],\n",
              "       [-0.03100441, -0.20059783, -0.50339479],\n",
              "       [ 2.29618509,  0.07661447,  0.01087174],\n",
              "       [-0.61585248, -0.205764  ,  1.82651199],\n",
              "       [-1.73320252,  1.29971699,  0.09045178],\n",
              "       [-0.82366049, -0.57164535, -0.27123176],\n",
              "       [ 0.75619512,  0.73995175, -0.76710616],\n",
              "       [-0.42344386,  0.26555394, -1.41533681],\n",
              "       [-0.39581307, -1.64646874,  0.24104031],\n",
              "       [-0.88581498,  0.15195119, -0.82271209],\n",
              "       [ 0.24587691,  0.39139878, -1.15801831],\n",
              "       [ 0.14741103, -1.22874561, -0.03110396],\n",
              "       [-0.7161265 , -0.56781471, -0.86180345],\n",
              "       [ 0.24475107,  2.39442622,  1.19337361]])"
            ]
          },
          "metadata": {},
          "execution_count": 31
        }
      ],
      "source": [
        "MYPCA(X,3)\n",
        "\n",
        "# 새로운 축으로 잘 변환되어서 나타나나요?\n",
        "# 위에서 했던 PCA랑은 차이가 있을 수 있어요 \n",
        "# 왜냐하면 위에서는 고유값이 큰 축 순서로 정렬을 안했었거든요"
      ]
    },
    {
      "cell_type": "markdown",
      "metadata": {
        "id": "Q8E2iMssPgsu"
      },
      "source": [
        "# 3) sklearn이랑 비교를 해보기\n",
        "\n",
        "https://scikit-learn.org/stable/modules/generated/sklearn.decomposition.PCA.html 를 참고하시면 도움이 될거에요"
      ]
    },
    {
      "cell_type": "code",
      "execution_count": 33,
      "metadata": {
        "id": "YLelmhAXPgsu"
      },
      "outputs": [],
      "source": [
        "from sklearn.decomposition import PCA\n",
        "\n",
        "pca = PCA(n_components = 3)   \n",
        "\n",
        "skc_pca = pca.fit_transform(X_std)    "
      ]
    },
    {
      "cell_type": "code",
      "execution_count": 35,
      "metadata": {
        "id": "b23tW08RPgsu",
        "outputId": "ed970153-96d0-4288-ef17-80a8bebfcf20",
        "colab": {
          "base_uri": "https://localhost:8080/"
        }
      },
      "outputs": [
        {
          "output_type": "execute_result",
          "data": {
            "text/plain": [
              "array([[-0.31019368, -1.08215716, -0.07983642],\n",
              "       [-1.28092404, -0.43132556,  0.13533091],\n",
              "       [-1.38766381,  0.78428014, -0.12911446],\n",
              "       [-0.95087515, -1.15737142,  1.6495519 ],\n",
              "       [-1.84222365,  0.88189889,  0.11493111],\n",
              "       [ 1.12563709, -0.52680338,  0.06564012],\n",
              "       [ 2.71174416,  0.63290138,  0.71195473],\n",
              "       [ 0.03100441, -0.20059783, -0.50339479],\n",
              "       [-2.29618509,  0.07661447,  0.01087174],\n",
              "       [ 0.61585248, -0.205764  ,  1.82651199],\n",
              "       [ 1.73320252,  1.29971699,  0.09045178],\n",
              "       [ 0.82366049, -0.57164535, -0.27123176],\n",
              "       [-0.75619512,  0.73995175, -0.76710616],\n",
              "       [ 0.42344386,  0.26555394, -1.41533681],\n",
              "       [ 0.39581307, -1.64646874,  0.24104031],\n",
              "       [ 0.88581498,  0.15195119, -0.82271209],\n",
              "       [-0.24587691,  0.39139878, -1.15801831],\n",
              "       [-0.14741103, -1.22874561, -0.03110396],\n",
              "       [ 0.7161265 , -0.56781471, -0.86180345],\n",
              "       [-0.24475107,  2.39442622,  1.19337361]])"
            ]
          },
          "metadata": {},
          "execution_count": 35
        }
      ],
      "source": [
        "skc_pca"
      ]
    }
  ],
  "metadata": {
    "colab": {
      "name": "week4_dimensionality reduction_assignment1.ipynb",
      "provenance": [],
      "collapsed_sections": [],
      "include_colab_link": true
    },
    "kernelspec": {
      "display_name": "Python 3 (ipykernel)",
      "language": "python",
      "name": "python3"
    },
    "language_info": {
      "codemirror_mode": {
        "name": "ipython",
        "version": 3
      },
      "file_extension": ".py",
      "mimetype": "text/x-python",
      "name": "python",
      "nbconvert_exporter": "python",
      "pygments_lexer": "ipython3",
      "version": "3.8.6"
    }
  },
  "nbformat": 4,
  "nbformat_minor": 0
}